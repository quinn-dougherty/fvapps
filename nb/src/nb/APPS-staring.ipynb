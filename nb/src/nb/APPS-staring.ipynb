{
 "cells": [
  {
   "cell_type": "code",
   "execution_count": 1,
   "id": "80fd1cee-6d47-4fcc-beca-c141459f6eec",
   "metadata": {},
   "outputs": [],
   "source": [
    "from datasets import load_dataset\n",
    "import pandas as pd"
   ]
  },
  {
   "cell_type": "code",
   "execution_count": 46,
   "id": "fcb649a0-1dd4-4d1a-9f56-b5c835326ff0",
   "metadata": {},
   "outputs": [],
   "source": [
    "apps = load_dataset(\"codeparrot/apps\", difficulties=[\"introductory\"]) # difficulties flag not working for some reason"
   ]
  },
  {
   "cell_type": "code",
   "execution_count": 55,
   "id": "5bd853fd-57ef-494e-a200-7db128141ed2",
   "metadata": {},
   "outputs": [],
   "source": [
    "df = pd.DataFrame(apps[\"train\"])"
   ]
  },
  {
   "cell_type": "code",
   "execution_count": 56,
   "id": "9f4dd708-b75d-4aff-9126-e121fa80488d",
   "metadata": {},
   "outputs": [],
   "source": [
    "introductory = df[df.difficulty == \"introductory\"]"
   ]
  },
  {
   "cell_type": "code",
   "execution_count": 57,
   "id": "9cf0c21c-9f12-4567-aa86-347ca8bf5607",
   "metadata": {},
   "outputs": [],
   "source": [
    "arrays = introductory[introductory.question.map(lambda s: \"array\" in s)]\n",
    "noarrays = introductory[introductory.question.map(lambda s: \"array\" not in s)]"
   ]
  },
  {
   "cell_type": "code",
   "execution_count": 58,
   "id": "ba6775de-b6fe-45df-925a-bd5f064a6236",
   "metadata": {},
   "outputs": [
    {
     "name": "stdout",
     "output_type": "stream",
     "text": [
      "(786, 7)\n",
      "(1853, 7)\n"
     ]
    }
   ],
   "source": [
    "print(arrays.shape)\n",
    "print(noarrays.shape)"
   ]
  },
  {
   "cell_type": "code",
   "execution_count": 72,
   "id": "18816b30-3fa7-4aba-81cf-2af8f831dacb",
   "metadata": {},
   "outputs": [
    {
     "name": "stdout",
     "output_type": "stream",
     "text": [
      "$n$ robots have escaped from your laboratory! You have to find them as soon as possible, because these robots are experimental, and their behavior is not tested yet, so they may be really dangerous!\n",
      "\n",
      "Fortunately, even though your robots have escaped, you still have some control over them. First of all, you know the location of each robot: the world you live in can be modeled as an infinite coordinate plane, and the $i$-th robot is currently located at the point having coordinates ($x_i$, $y_i$). Furthermore, you may send exactly one command to all of the robots. The command should contain two integer numbers $X$ and $Y$, and when each robot receives this command, it starts moving towards the point having coordinates ($X$, $Y$). The robot stops its movement in two cases:  either it reaches ($X$, $Y$);  or it cannot get any closer to ($X$, $Y$). \n",
      "\n",
      "Normally, all robots should be able to get from any point of the coordinate plane to any other point. Each robot usually can perform four actions to move. Let's denote the current coordinates of the robot as ($x_c$, $y_c$). Then the movement system allows it to move to any of the four adjacent points:  the first action allows it to move from ($x_c$, $y_c$) to ($x_c - 1$, $y_c$);  the second action allows it to move from ($x_c$, $y_c$) to ($x_c$, $y_c + 1$);  the third action allows it to move from ($x_c$, $y_c$) to ($x_c + 1$, $y_c$);  the fourth action allows it to move from ($x_c$, $y_c$) to ($x_c$, $y_c - 1$). \n",
      "\n",
      "Unfortunately, it seems that some movement systems of some robots are malfunctioning. For each robot you know which actions it can perform, and which it cannot perform.\n",
      "\n",
      "You want to send a command so all robots gather at the same point. To do so, you have to choose a pair of integer numbers $X$ and $Y$ so that each robot can reach the point ($X$, $Y$). Is it possible to find such a point?\n",
      "\n",
      "\n",
      "-----Input-----\n",
      "\n",
      "The first line contains one integer $q$ ($1 \\le q \\le 10^5$) — the number of queries.\n",
      "\n",
      "Then $q$ queries follow. Each query begins with one line containing one integer $n$ ($1 \\le n \\le 10^5$) — the number of robots in the query. Then $n$ lines follow, the $i$-th of these lines describes the $i$-th robot in the current query: it contains six integer numbers $x_i$, $y_i$, $f_{i, 1}$, $f_{i, 2}$, $f_{i, 3}$ and $f_{i, 4}$ ($-10^5 \\le x_i, y_i \\le 10^5$, $0 \\le f_{i, j} \\le 1$). The first two numbers describe the initial location of the $i$-th robot, and the following four numbers describe which actions the $i$-th robot can use to move ($f_{i, j} = 1$ if the $i$-th robot can use the $j$-th action, and $f_{i, j} = 0$ if it cannot use the $j$-th action).\n",
      "\n",
      "It is guaranteed that the total number of robots over all queries does not exceed $10^5$.\n",
      "\n",
      "\n",
      "-----Output-----\n",
      "\n",
      "You should answer each query independently, in the order these queries appear in the input.\n",
      "\n",
      "To answer a query, you should do one of the following:  if it is impossible to find a point that is reachable by all $n$ robots, print one number $0$ on a separate line;  if it is possible to find a point that is reachable by all $n$ robots, print three space-separated integers on the same line: $1$ $X$ $Y$, where $X$ and $Y$ are the coordinates of the point reachable by all $n$ robots. Both $X$ and $Y$ should not exceed $10^5$ by absolute value; it is guaranteed that if there exists at least one point reachable by all robots, then at least one of such points has both coordinates not exceeding $10^5$ by absolute value.\n",
      "\n",
      "\n",
      "-----Example-----\n",
      "Input\n",
      "4\n",
      "2\n",
      "-1 -2 0 0 0 0\n",
      "-1 -2 0 0 0 0\n",
      "3\n",
      "1 5 1 1 1 1\n",
      "2 5 0 1 0 1\n",
      "3 5 1 0 0 0\n",
      "2\n",
      "1337 1337 0 1 1 1\n",
      "1336 1337 1 1 0 1\n",
      "1\n",
      "3 5 1 1 1 1\n",
      "\n",
      "Output\n",
      "1 -1 -2\n",
      "1 2 5\n",
      "0\n",
      "1 -100000 -100000\n"
     ]
    },
    {
     "data": {
      "text/plain": [
       "2362    $n$ robots have escaped from your laboratory! ...\n",
       "2363    There are $n$ athletes in front of you. Athlet...\n",
       "2366    Polycarp analyzes the prices of the new berPho...\n",
       "2367    You are given two strings $s$ and $t$ both of ...\n",
       "2368    You have $n$ gifts and you want to give all of...\n",
       "                              ...                        \n",
       "4991    I will give you two strings. I want you to tra...\n",
       "4993    The description is rather long but you are giv...\n",
       "4994    A grammar is a set of rules that let us define...\n",
       "4995    Another rewarding day in the fast-paced world ...\n",
       "4997    The function sigma 1, σ1 in mathematics, is kn...\n",
       "Name: question, Length: 1853, dtype: object"
      ]
     },
     "execution_count": 72,
     "metadata": {},
     "output_type": "execute_result"
    }
   ],
   "source": [
    "print(list(noarrays.question)[0])\n",
    "noarrays.question"
   ]
  },
  {
   "cell_type": "code",
   "execution_count": 100,
   "id": "d7b6516d-bf88-44aa-91b2-e454ae36cd9b",
   "metadata": {},
   "outputs": [
    {
     "name": "stdout",
     "output_type": "stream",
     "text": [
      "4004\n",
      "Find the first character that repeats in a String and return that character. \n",
      "\n",
      "```python\n",
      "first_dup('tweet') => 't'\n",
      "first_dup('like') => None\n",
      "```\n",
      "\n",
      "*This is not the same as finding the character that repeats first.*\n",
      "*In that case, an input of 'tweet' would yield 'e'.*\n"
     ]
    }
   ],
   "source": [
    "samp = noarrays.sample(1)\n",
    "print(samp.problem_id.values[0])\n",
    "print(samp.question.values[0])"
   ]
  },
  {
   "cell_type": "code",
   "execution_count": 97,
   "id": "6ace71f5-5660-4968-a1c0-98f8f9afd3c1",
   "metadata": {},
   "outputs": [],
   "source": [
    "imp_requires_str = {3380, 2726, 3613, 3887, 4004}\n",
    "imp_requires_print = {2362, 2726, 3887, }\n",
    "imp_requires_array = {4960, 2561, 2768, 3138, 3606}"
   ]
  },
  {
   "cell_type": "code",
   "execution_count": 99,
   "id": "d11ddc13-e4c9-4797-8d44-89631af624d2",
   "metadata": {},
   "outputs": [],
   "source": [
    "candidate_lean = {3380, 3885, 2726, 3613, 3962, 3346, 4960, 2561, 3151, 2768, 3138, 2520, 4152, 4693, 3606, 3000, 4004}\n",
    "# candidate imp assumes no new language features, \n",
    "candidate_imp = {3885, 3962, 3346, 3151, 2520, 4152, 4693, 3000}"
   ]
  },
  {
   "cell_type": "code",
   "execution_count": 80,
   "id": "be822d35-cf10-4ae1-843d-0689051e70ee",
   "metadata": {},
   "outputs": [],
   "source": [
    "none = {4924, }"
   ]
  },
  {
   "cell_type": "code",
   "execution_count": 101,
   "id": "07e3e4e4-fcb2-4ed5-b470-20ab6e562f4f",
   "metadata": {},
   "outputs": [],
   "source": [
    "has_both_dumb_and_smart_solution = {}\n",
    "can_easily_see_propertytest = {}"
   ]
  },
  {
   "cell_type": "code",
   "execution_count": 102,
   "id": "36b1a273-65c4-4399-96a7-e377b9a2c975",
   "metadata": {},
   "outputs": [
    {
     "data": {
      "text/plain": [
       "{1, 2}"
      ]
     },
     "execution_count": 102,
     "metadata": {},
     "output_type": "execute_result"
    }
   ],
   "source": [
    "{1,2,1}"
   ]
  },
  {
   "cell_type": "code",
   "execution_count": 106,
   "id": "44582d03-d6c1-40ad-869b-40d07fc51006",
   "metadata": {},
   "outputs": [
    {
     "ename": "KeyError",
     "evalue": "\"None of [Index([2561, 3138, 3151, 2768, 3346, 4693, 3606, 2520, 4152, 3613, 4960, 2726,\\n       3885, 3380, 3000, 3962],\\n      dtype='int64')] are in the [columns]\"",
     "output_type": "error",
     "traceback": [
      "\u001b[0;31m---------------------------------------------------------------------------\u001b[0m",
      "\u001b[0;31mKeyError\u001b[0m                                  Traceback (most recent call last)",
      "Cell \u001b[0;32mIn[106], line 1\u001b[0m\n\u001b[0;32m----> 1\u001b[0m \u001b[43mnoarrays\u001b[49m\u001b[43m[\u001b[49m\u001b[38;5;28;43mlist\u001b[39;49m\u001b[43m(\u001b[49m\u001b[43m{\u001b[49m\u001b[38;5;241;43m3380\u001b[39;49m\u001b[43m,\u001b[49m\u001b[43m \u001b[49m\u001b[38;5;241;43m3885\u001b[39;49m\u001b[43m,\u001b[49m\u001b[43m \u001b[49m\u001b[38;5;241;43m2726\u001b[39;49m\u001b[43m,\u001b[49m\u001b[43m \u001b[49m\u001b[38;5;241;43m3613\u001b[39;49m\u001b[43m,\u001b[49m\u001b[43m \u001b[49m\u001b[38;5;241;43m3962\u001b[39;49m\u001b[43m,\u001b[49m\u001b[43m \u001b[49m\u001b[38;5;241;43m3346\u001b[39;49m\u001b[43m,\u001b[49m\u001b[43m \u001b[49m\u001b[38;5;241;43m4960\u001b[39;49m\u001b[43m,\u001b[49m\u001b[43m \u001b[49m\u001b[38;5;241;43m2561\u001b[39;49m\u001b[43m,\u001b[49m\u001b[43m \u001b[49m\u001b[38;5;241;43m3151\u001b[39;49m\u001b[43m,\u001b[49m\u001b[43m \u001b[49m\u001b[38;5;241;43m2768\u001b[39;49m\u001b[43m,\u001b[49m\u001b[43m \u001b[49m\u001b[38;5;241;43m3138\u001b[39;49m\u001b[43m,\u001b[49m\u001b[43m \u001b[49m\u001b[38;5;241;43m2520\u001b[39;49m\u001b[43m,\u001b[49m\u001b[43m \u001b[49m\u001b[38;5;241;43m4152\u001b[39;49m\u001b[43m,\u001b[49m\u001b[43m \u001b[49m\u001b[38;5;241;43m4693\u001b[39;49m\u001b[43m,\u001b[49m\u001b[43m \u001b[49m\u001b[38;5;241;43m3606\u001b[39;49m\u001b[43m,\u001b[49m\u001b[43m \u001b[49m\u001b[38;5;241;43m3000\u001b[39;49m\u001b[43m}\u001b[49m\u001b[43m)\u001b[49m\u001b[43m]\u001b[49m\n",
      "File \u001b[0;32m~/Projects/safeguarded/autolean/fvapps/nb/.venv/lib/python3.12/site-packages/pandas/core/frame.py:4108\u001b[0m, in \u001b[0;36mDataFrame.__getitem__\u001b[0;34m(self, key)\u001b[0m\n\u001b[1;32m   4106\u001b[0m     \u001b[38;5;28;01mif\u001b[39;00m is_iterator(key):\n\u001b[1;32m   4107\u001b[0m         key \u001b[38;5;241m=\u001b[39m \u001b[38;5;28mlist\u001b[39m(key)\n\u001b[0;32m-> 4108\u001b[0m     indexer \u001b[38;5;241m=\u001b[39m \u001b[38;5;28;43mself\u001b[39;49m\u001b[38;5;241;43m.\u001b[39;49m\u001b[43mcolumns\u001b[49m\u001b[38;5;241;43m.\u001b[39;49m\u001b[43m_get_indexer_strict\u001b[49m\u001b[43m(\u001b[49m\u001b[43mkey\u001b[49m\u001b[43m,\u001b[49m\u001b[43m \u001b[49m\u001b[38;5;124;43m\"\u001b[39;49m\u001b[38;5;124;43mcolumns\u001b[39;49m\u001b[38;5;124;43m\"\u001b[39;49m\u001b[43m)\u001b[49m[\u001b[38;5;241m1\u001b[39m]\n\u001b[1;32m   4110\u001b[0m \u001b[38;5;66;03m# take() does not accept boolean indexers\u001b[39;00m\n\u001b[1;32m   4111\u001b[0m \u001b[38;5;28;01mif\u001b[39;00m \u001b[38;5;28mgetattr\u001b[39m(indexer, \u001b[38;5;124m\"\u001b[39m\u001b[38;5;124mdtype\u001b[39m\u001b[38;5;124m\"\u001b[39m, \u001b[38;5;28;01mNone\u001b[39;00m) \u001b[38;5;241m==\u001b[39m \u001b[38;5;28mbool\u001b[39m:\n",
      "File \u001b[0;32m~/Projects/safeguarded/autolean/fvapps/nb/.venv/lib/python3.12/site-packages/pandas/core/indexes/base.py:6200\u001b[0m, in \u001b[0;36mIndex._get_indexer_strict\u001b[0;34m(self, key, axis_name)\u001b[0m\n\u001b[1;32m   6197\u001b[0m \u001b[38;5;28;01melse\u001b[39;00m:\n\u001b[1;32m   6198\u001b[0m     keyarr, indexer, new_indexer \u001b[38;5;241m=\u001b[39m \u001b[38;5;28mself\u001b[39m\u001b[38;5;241m.\u001b[39m_reindex_non_unique(keyarr)\n\u001b[0;32m-> 6200\u001b[0m \u001b[38;5;28;43mself\u001b[39;49m\u001b[38;5;241;43m.\u001b[39;49m\u001b[43m_raise_if_missing\u001b[49m\u001b[43m(\u001b[49m\u001b[43mkeyarr\u001b[49m\u001b[43m,\u001b[49m\u001b[43m \u001b[49m\u001b[43mindexer\u001b[49m\u001b[43m,\u001b[49m\u001b[43m \u001b[49m\u001b[43maxis_name\u001b[49m\u001b[43m)\u001b[49m\n\u001b[1;32m   6202\u001b[0m keyarr \u001b[38;5;241m=\u001b[39m \u001b[38;5;28mself\u001b[39m\u001b[38;5;241m.\u001b[39mtake(indexer)\n\u001b[1;32m   6203\u001b[0m \u001b[38;5;28;01mif\u001b[39;00m \u001b[38;5;28misinstance\u001b[39m(key, Index):\n\u001b[1;32m   6204\u001b[0m     \u001b[38;5;66;03m# GH 42790 - Preserve name from an Index\u001b[39;00m\n",
      "File \u001b[0;32m~/Projects/safeguarded/autolean/fvapps/nb/.venv/lib/python3.12/site-packages/pandas/core/indexes/base.py:6249\u001b[0m, in \u001b[0;36mIndex._raise_if_missing\u001b[0;34m(self, key, indexer, axis_name)\u001b[0m\n\u001b[1;32m   6247\u001b[0m \u001b[38;5;28;01mif\u001b[39;00m nmissing:\n\u001b[1;32m   6248\u001b[0m     \u001b[38;5;28;01mif\u001b[39;00m nmissing \u001b[38;5;241m==\u001b[39m \u001b[38;5;28mlen\u001b[39m(indexer):\n\u001b[0;32m-> 6249\u001b[0m         \u001b[38;5;28;01mraise\u001b[39;00m \u001b[38;5;167;01mKeyError\u001b[39;00m(\u001b[38;5;124mf\u001b[39m\u001b[38;5;124m\"\u001b[39m\u001b[38;5;124mNone of [\u001b[39m\u001b[38;5;132;01m{\u001b[39;00mkey\u001b[38;5;132;01m}\u001b[39;00m\u001b[38;5;124m] are in the [\u001b[39m\u001b[38;5;132;01m{\u001b[39;00maxis_name\u001b[38;5;132;01m}\u001b[39;00m\u001b[38;5;124m]\u001b[39m\u001b[38;5;124m\"\u001b[39m)\n\u001b[1;32m   6251\u001b[0m     not_found \u001b[38;5;241m=\u001b[39m \u001b[38;5;28mlist\u001b[39m(ensure_index(key)[missing_mask\u001b[38;5;241m.\u001b[39mnonzero()[\u001b[38;5;241m0\u001b[39m]]\u001b[38;5;241m.\u001b[39munique())\n\u001b[1;32m   6252\u001b[0m     \u001b[38;5;28;01mraise\u001b[39;00m \u001b[38;5;167;01mKeyError\u001b[39;00m(\u001b[38;5;124mf\u001b[39m\u001b[38;5;124m\"\u001b[39m\u001b[38;5;132;01m{\u001b[39;00mnot_found\u001b[38;5;132;01m}\u001b[39;00m\u001b[38;5;124m not in index\u001b[39m\u001b[38;5;124m\"\u001b[39m)\n",
      "\u001b[0;31mKeyError\u001b[0m: \"None of [Index([2561, 3138, 3151, 2768, 3346, 4693, 3606, 2520, 4152, 3613, 4960, 2726,\\n       3885, 3380, 3000, 3962],\\n      dtype='int64')] are in the [columns]\""
     ]
    }
   ],
   "source": [
    "noarrays[list({3380, 3885, 2726, 3613, 3962, 3346, 4960, 2561, 3151, 2768, 3138, 2520, 4152, 4693, 3606, 3000})]"
   ]
  },
  {
   "cell_type": "code",
   "execution_count": 107,
   "id": "523a33f4-18dc-4b92-a548-16e4cd219ceb",
   "metadata": {},
   "outputs": [
    {
     "data": {
      "text/html": [
       "<div>\n",
       "<style scoped>\n",
       "    .dataframe tbody tr th:only-of-type {\n",
       "        vertical-align: middle;\n",
       "    }\n",
       "\n",
       "    .dataframe tbody tr th {\n",
       "        vertical-align: top;\n",
       "    }\n",
       "\n",
       "    .dataframe thead th {\n",
       "        text-align: right;\n",
       "    }\n",
       "</style>\n",
       "<table border=\"1\" class=\"dataframe\">\n",
       "  <thead>\n",
       "    <tr style=\"text-align: right;\">\n",
       "      <th></th>\n",
       "      <th>problem_id</th>\n",
       "      <th>question</th>\n",
       "      <th>solutions</th>\n",
       "      <th>input_output</th>\n",
       "      <th>difficulty</th>\n",
       "      <th>url</th>\n",
       "      <th>starter_code</th>\n",
       "    </tr>\n",
       "  </thead>\n",
       "  <tbody>\n",
       "    <tr>\n",
       "      <th>2362</th>\n",
       "      <td>2362</td>\n",
       "      <td>$n$ robots have escaped from your laboratory! ...</td>\n",
       "      <td>[\"def main():\\n    import sys\\n    input = sys...</td>\n",
       "      <td>{\\n  \"inputs\": [\\n    \"4\\n2\\n-1 -2 0 0 0 0\\n-1...</td>\n",
       "      <td>introductory</td>\n",
       "      <td>https://codeforces.com/problemset/problem/1196/C</td>\n",
       "      <td></td>\n",
       "    </tr>\n",
       "    <tr>\n",
       "      <th>2363</th>\n",
       "      <td>2363</td>\n",
       "      <td>There are $n$ athletes in front of you. Athlet...</td>\n",
       "      <td>[\"\\nT = int(input())\\n\\nfor _ in range(T):\\n  ...</td>\n",
       "      <td>{\\n  \"inputs\": [\\n    \"5\\n5\\n3 1 2 6 4\\n6\\n2 1...</td>\n",
       "      <td>introductory</td>\n",
       "      <td>https://codeforces.com/problemset/problem/1360/B</td>\n",
       "      <td></td>\n",
       "    </tr>\n",
       "    <tr>\n",
       "      <th>2366</th>\n",
       "      <td>2366</td>\n",
       "      <td>Polycarp analyzes the prices of the new berPho...</td>\n",
       "      <td>[\"for _ in range(int(input())):\\n    n = int(i...</td>\n",
       "      <td>{\\n  \"inputs\": [\\n    \"5\\n6\\n3 9 4 6 7 5\\n1\\n1...</td>\n",
       "      <td>introductory</td>\n",
       "      <td>https://codeforces.com/problemset/problem/1213/B</td>\n",
       "      <td></td>\n",
       "    </tr>\n",
       "    <tr>\n",
       "      <th>2367</th>\n",
       "      <td>2367</td>\n",
       "      <td>You are given two strings $s$ and $t$ both of ...</td>\n",
       "      <td>[\"q = int(input())\\nfor _ in range(q) :\\n  n =...</td>\n",
       "      <td>{\\n  \"inputs\": [\\n    \"4\\n4\\nabcd\\nabdc\\n5\\nab...</td>\n",
       "      <td>introductory</td>\n",
       "      <td>https://codeforces.com/problemset/problem/1256/F</td>\n",
       "      <td></td>\n",
       "    </tr>\n",
       "    <tr>\n",
       "      <th>2368</th>\n",
       "      <td>2368</td>\n",
       "      <td>You have $n$ gifts and you want to give all of...</td>\n",
       "      <td>[\"t = int(input())\\n\\nfor _ in range(t):\\n    ...</td>\n",
       "      <td>{\\n  \"inputs\": [\\n    \"5\\n3\\n3 5 6\\n3 2 3\\n5\\n...</td>\n",
       "      <td>introductory</td>\n",
       "      <td>https://codeforces.com/problemset/problem/1399/B</td>\n",
       "      <td></td>\n",
       "    </tr>\n",
       "    <tr>\n",
       "      <th>...</th>\n",
       "      <td>...</td>\n",
       "      <td>...</td>\n",
       "      <td>...</td>\n",
       "      <td>...</td>\n",
       "      <td>...</td>\n",
       "      <td>...</td>\n",
       "      <td>...</td>\n",
       "    </tr>\n",
       "    <tr>\n",
       "      <th>4991</th>\n",
       "      <td>4991</td>\n",
       "      <td>I will give you two strings. I want you to tra...</td>\n",
       "      <td>[\"def mutate_my_strings(s1,s2):\\n    return '\\...</td>\n",
       "      <td>{\"fn_name\": \"mutate_my_strings\", \"inputs\": [],...</td>\n",
       "      <td>introductory</td>\n",
       "      <td>https://www.codewars.com/kata/59bc0059bf10a498...</td>\n",
       "      <td>\\ndef mutate_my_strings(s1,s2):\\n\\t</td>\n",
       "    </tr>\n",
       "    <tr>\n",
       "      <th>4993</th>\n",
       "      <td>4993</td>\n",
       "      <td>The description is rather long but you are giv...</td>\n",
       "      <td>[\"from math import sin, atan\\n\\ndef temps(v0, ...</td>\n",
       "      <td>{\"fn_name\": \"temps\", \"inputs\": [], \"outputs\": []}</td>\n",
       "      <td>introductory</td>\n",
       "      <td>https://www.codewars.com/kata/5879f95892074d76...</td>\n",
       "      <td>\\ndef temps(v0, slope, d_tot):\\n\\t</td>\n",
       "    </tr>\n",
       "    <tr>\n",
       "      <th>4994</th>\n",
       "      <td>4994</td>\n",
       "      <td>A grammar is a set of rules that let us define...</td>\n",
       "      <td>[\"def word_problem(rules: List[Tuple[str, str]...</td>\n",
       "      <td>{\"fn_name\": \"word_problem\", \"inputs\": [], \"out...</td>\n",
       "      <td>introductory</td>\n",
       "      <td>https://www.codewars.com/kata/5e453b6476551c00...</td>\n",
       "      <td>\\ndef word_problem(rules:\\n\\t</td>\n",
       "    </tr>\n",
       "    <tr>\n",
       "      <th>4995</th>\n",
       "      <td>4995</td>\n",
       "      <td>Another rewarding day in the fast-paced world ...</td>\n",
       "      <td>[\"class HTMLGen:\\n    def __init__(self):\\n   ...</td>\n",
       "      <td>{\"fn_name\": \"__init__\", \"inputs\": [], \"outputs...</td>\n",
       "      <td>introductory</td>\n",
       "      <td>https://www.codewars.com/kata/54eecc187f9142cc...</td>\n",
       "      <td>\\ndef __init__(self):\\n\\t</td>\n",
       "    </tr>\n",
       "    <tr>\n",
       "      <th>4997</th>\n",
       "      <td>4997</td>\n",
       "      <td>The function sigma 1, σ1 in mathematics, is kn...</td>\n",
       "      <td>[\"cache = {}\\ndef sum_div(x):\\n    if x not in...</td>\n",
       "      <td>{\"fn_name\": \"sigma1\", \"inputs\": [], \"outputs\":...</td>\n",
       "      <td>introductory</td>\n",
       "      <td>https://www.codewars.com/kata/5619dbc22e69620e...</td>\n",
       "      <td>\\ndef sigma1(n):\\n\\t</td>\n",
       "    </tr>\n",
       "  </tbody>\n",
       "</table>\n",
       "<p>1853 rows × 7 columns</p>\n",
       "</div>"
      ],
      "text/plain": [
       "      problem_id                                           question  \\\n",
       "2362        2362  $n$ robots have escaped from your laboratory! ...   \n",
       "2363        2363  There are $n$ athletes in front of you. Athlet...   \n",
       "2366        2366  Polycarp analyzes the prices of the new berPho...   \n",
       "2367        2367  You are given two strings $s$ and $t$ both of ...   \n",
       "2368        2368  You have $n$ gifts and you want to give all of...   \n",
       "...          ...                                                ...   \n",
       "4991        4991  I will give you two strings. I want you to tra...   \n",
       "4993        4993  The description is rather long but you are giv...   \n",
       "4994        4994  A grammar is a set of rules that let us define...   \n",
       "4995        4995  Another rewarding day in the fast-paced world ...   \n",
       "4997        4997  The function sigma 1, σ1 in mathematics, is kn...   \n",
       "\n",
       "                                              solutions  \\\n",
       "2362  [\"def main():\\n    import sys\\n    input = sys...   \n",
       "2363  [\"\\nT = int(input())\\n\\nfor _ in range(T):\\n  ...   \n",
       "2366  [\"for _ in range(int(input())):\\n    n = int(i...   \n",
       "2367  [\"q = int(input())\\nfor _ in range(q) :\\n  n =...   \n",
       "2368  [\"t = int(input())\\n\\nfor _ in range(t):\\n    ...   \n",
       "...                                                 ...   \n",
       "4991  [\"def mutate_my_strings(s1,s2):\\n    return '\\...   \n",
       "4993  [\"from math import sin, atan\\n\\ndef temps(v0, ...   \n",
       "4994  [\"def word_problem(rules: List[Tuple[str, str]...   \n",
       "4995  [\"class HTMLGen:\\n    def __init__(self):\\n   ...   \n",
       "4997  [\"cache = {}\\ndef sum_div(x):\\n    if x not in...   \n",
       "\n",
       "                                           input_output    difficulty  \\\n",
       "2362  {\\n  \"inputs\": [\\n    \"4\\n2\\n-1 -2 0 0 0 0\\n-1...  introductory   \n",
       "2363  {\\n  \"inputs\": [\\n    \"5\\n5\\n3 1 2 6 4\\n6\\n2 1...  introductory   \n",
       "2366  {\\n  \"inputs\": [\\n    \"5\\n6\\n3 9 4 6 7 5\\n1\\n1...  introductory   \n",
       "2367  {\\n  \"inputs\": [\\n    \"4\\n4\\nabcd\\nabdc\\n5\\nab...  introductory   \n",
       "2368  {\\n  \"inputs\": [\\n    \"5\\n3\\n3 5 6\\n3 2 3\\n5\\n...  introductory   \n",
       "...                                                 ...           ...   \n",
       "4991  {\"fn_name\": \"mutate_my_strings\", \"inputs\": [],...  introductory   \n",
       "4993  {\"fn_name\": \"temps\", \"inputs\": [], \"outputs\": []}  introductory   \n",
       "4994  {\"fn_name\": \"word_problem\", \"inputs\": [], \"out...  introductory   \n",
       "4995  {\"fn_name\": \"__init__\", \"inputs\": [], \"outputs...  introductory   \n",
       "4997  {\"fn_name\": \"sigma1\", \"inputs\": [], \"outputs\":...  introductory   \n",
       "\n",
       "                                                    url  \\\n",
       "2362   https://codeforces.com/problemset/problem/1196/C   \n",
       "2363   https://codeforces.com/problemset/problem/1360/B   \n",
       "2366   https://codeforces.com/problemset/problem/1213/B   \n",
       "2367   https://codeforces.com/problemset/problem/1256/F   \n",
       "2368   https://codeforces.com/problemset/problem/1399/B   \n",
       "...                                                 ...   \n",
       "4991  https://www.codewars.com/kata/59bc0059bf10a498...   \n",
       "4993  https://www.codewars.com/kata/5879f95892074d76...   \n",
       "4994  https://www.codewars.com/kata/5e453b6476551c00...   \n",
       "4995  https://www.codewars.com/kata/54eecc187f9142cc...   \n",
       "4997  https://www.codewars.com/kata/5619dbc22e69620e...   \n",
       "\n",
       "                             starter_code  \n",
       "2362                                       \n",
       "2363                                       \n",
       "2366                                       \n",
       "2367                                       \n",
       "2368                                       \n",
       "...                                   ...  \n",
       "4991  \\ndef mutate_my_strings(s1,s2):\\n\\t  \n",
       "4993   \\ndef temps(v0, slope, d_tot):\\n\\t  \n",
       "4994        \\ndef word_problem(rules:\\n\\t  \n",
       "4995            \\ndef __init__(self):\\n\\t  \n",
       "4997                 \\ndef sigma1(n):\\n\\t  \n",
       "\n",
       "[1853 rows x 7 columns]"
      ]
     },
     "execution_count": 107,
     "metadata": {},
     "output_type": "execute_result"
    }
   ],
   "source": [
    "noarrays"
   ]
  },
  {
   "cell_type": "code",
   "execution_count": null,
   "id": "8748eda4-698f-4068-9580-af7a5362bc70",
   "metadata": {},
   "outputs": [],
   "source": []
  }
 ],
 "metadata": {
  "kernelspec": {
   "display_name": "Python 3 (ipykernel)",
   "language": "python",
   "name": "python3"
  },
  "language_info": {
   "codemirror_mode": {
    "name": "ipython",
    "version": 3
   },
   "file_extension": ".py",
   "mimetype": "text/x-python",
   "name": "python",
   "nbconvert_exporter": "python",
   "pygments_lexer": "ipython3",
   "version": "3.12.4"
  }
 },
 "nbformat": 4,
 "nbformat_minor": 5
}
