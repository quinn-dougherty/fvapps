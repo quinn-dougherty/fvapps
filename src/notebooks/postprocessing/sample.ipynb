{
 "cells": [
  {
   "cell_type": "code",
   "execution_count": 26,
   "id": "2a9808ac-4690-42ee-81cb-01c6fe61f5b9",
   "metadata": {},
   "outputs": [],
   "source": [
    "import jsonlines\n",
    "from pathlib import Path\n",
    "import pandas as pd"
   ]
  },
  {
   "cell_type": "code",
   "execution_count": 27,
   "id": "0f528c38-ec3a-4e29-9092-fb466761b3c4",
   "metadata": {},
   "outputs": [],
   "source": [
    "artefacts = Path(\".\") / \"..\" / \"..\" / \"artefacts\""
   ]
  },
  {
   "cell_type": "code",
   "execution_count": 33,
   "id": "202cf0a3-286b-4cf5-80c4-05ccbe566524",
   "metadata": {},
   "outputs": [],
   "source": [
    "with jsonlines.open(artefacts / \"fvapps\" / \"train.jsonl\", \"r\") as f:\n",
    "    train = f.iter()\n",
    "    train = pd.DataFrame(train)"
   ]
  },
  {
   "cell_type": "code",
   "execution_count": 34,
   "id": "8895587a-e0e1-4d77-8bbd-26940e057fca",
   "metadata": {},
   "outputs": [
    {
     "name": "stdout",
     "output_type": "stream",
     "text": [
      "def find_permutations (sequence : List Nat) : List (Nat × Nat) :=\n",
      "  sorry\n",
      "\n",
      "def is_valid_permutation (sequence : List Nat) (split : Nat) : Bool :=\n",
      "  sorry\n",
      "\n",
      "theorem find_permutations_valid_splits (sequence : List Nat) :\n",
      "  ∀ split ∈ find_permutations sequence, is_valid_permutation sequence split.1 = true :=\n",
      "  sorry\n",
      "\n",
      "theorem find_permutations_sorted (sequence : List Nat) :\n",
      "  find_permutations sequence = find_permutations sequence :=\n",
      "  sorry\n",
      "\n",
      "theorem find_permutations_no_duplicates (sequence : List Nat) :\n",
      "  ∀ split ∈ find_permutations sequence, ∀ split' ∈ find_permutations sequence, split = split' ∨ split ≠ split' :=\n",
      "  sorry\n",
      "\n",
      "theorem find_permutations_within_bounds (sequence : List Nat) :\n",
      "  ∀ split ∈ find_permutations sequence, 0 < split.1 ∧ split.1 < sequence.length :=\n",
      "  sorry\n",
      "\n",
      "theorem find_permutations_sum_equals_length (sequence : List Nat) :\n",
      "  ∀ split ∈ find_permutations sequence, split.1 + split.2 = sequence.length :=\n",
      "  sorry\n",
      "\n",
      "theorem find_permutations_empty_for_singleton (n : Nat) :\n",
      "  find_permutations [n] = [] :=\n",
      "  sorry\n",
      "\n",
      "theorem find_permutations_specific_case_1 :\n",
      "  find_permutations [1, 4, 3, 2, 1] = [(1, 4), (4, 1)] :=\n",
      "  sorry\n",
      "\n",
      "theorem find_permutations_specific_case_2 :\n",
      "  find_permutations [2, 4, 1, 3, 2, 1] = [(4, 2)] :=\n",
      "  sorry\n",
      "\n",
      "theorem find_permutations_specific_case_3 :\n",
      "  find_permutations [2, 1, 1, 3] = [] :=\n",
      "  sorry\n"
     ]
    }
   ],
   "source": [
    "print(train.spec[0])"
   ]
  },
  {
   "cell_type": "code",
   "execution_count": 35,
   "id": "2e4b8111-b6a3-4c9b-9fdf-c05d00349520",
   "metadata": {},
   "outputs": [
    {
     "data": {
      "text/html": [
       "<div>\n",
       "<style scoped>\n",
       "    .dataframe tbody tr th:only-of-type {\n",
       "        vertical-align: middle;\n",
       "    }\n",
       "\n",
       "    .dataframe tbody tr th {\n",
       "        vertical-align: top;\n",
       "    }\n",
       "\n",
       "    .dataframe thead th {\n",
       "        text-align: right;\n",
       "    }\n",
       "</style>\n",
       "<table border=\"1\" class=\"dataframe\">\n",
       "  <thead>\n",
       "    <tr style=\"text-align: right;\">\n",
       "      <th></th>\n",
       "      <th>apps_id</th>\n",
       "      <th>apps_question</th>\n",
       "      <th>spec</th>\n",
       "      <th>apps_difficulty</th>\n",
       "      <th>split</th>\n",
       "    </tr>\n",
       "  </thead>\n",
       "  <tbody>\n",
       "    <tr>\n",
       "      <th>0</th>\n",
       "      <td>0005</td>\n",
       "      <td>The sequence of $m$ integers is called the per...</td>\n",
       "      <td>def find_permutations (sequence : List Nat) : ...</td>\n",
       "      <td>interview</td>\n",
       "      <td>train</td>\n",
       "    </tr>\n",
       "    <tr>\n",
       "      <th>1</th>\n",
       "      <td>0002</td>\n",
       "      <td>You are given three sequences: $a_1, a_2, \\ldo...</td>\n",
       "      <td>def is_valid_sequence (seq : List Nat) : Bool ...</td>\n",
       "      <td>interview</td>\n",
       "      <td>train</td>\n",
       "    </tr>\n",
       "    <tr>\n",
       "      <th>2</th>\n",
       "      <td>0004</td>\n",
       "      <td>You are given a permutation $p=[p_1, p_2, \\ldo...</td>\n",
       "      <td>def find_beautiful_numbers (permutation : List...</td>\n",
       "      <td>interview</td>\n",
       "      <td>train</td>\n",
       "    </tr>\n",
       "    <tr>\n",
       "      <th>3</th>\n",
       "      <td>0000</td>\n",
       "      <td>Polycarp has $n$ different binary words. A wor...</td>\n",
       "      <td>def find_missing_numbers (nums : List Nat) : L...</td>\n",
       "      <td>interview</td>\n",
       "      <td>train</td>\n",
       "    </tr>\n",
       "    <tr>\n",
       "      <th>4</th>\n",
       "      <td>0006</td>\n",
       "      <td>Arthur owns a ski resort on a mountain. There ...</td>\n",
       "      <td>def solve_ski_resort (n : Nat) (tracks : List ...</td>\n",
       "      <td>interview</td>\n",
       "      <td>train</td>\n",
       "    </tr>\n",
       "    <tr>\n",
       "      <th>5</th>\n",
       "      <td>0007</td>\n",
       "      <td>The only difference between easy and hard vers...</td>\n",
       "      <td>structure Heap where\\n  l : List Int\\n\\ndef He...</td>\n",
       "      <td>interview</td>\n",
       "      <td>train</td>\n",
       "    </tr>\n",
       "    <tr>\n",
       "      <th>6</th>\n",
       "      <td>0001</td>\n",
       "      <td>Mikhail walks on a Cartesian plane. He starts ...</td>\n",
       "      <td>def max_diagonal_moves (n m k : Int) : Int :=\\...</td>\n",
       "      <td>interview</td>\n",
       "      <td>train</td>\n",
       "    </tr>\n",
       "    <tr>\n",
       "      <th>7</th>\n",
       "      <td>0003</td>\n",
       "      <td>You have $n$ barrels lined up in a row, number...</td>\n",
       "      <td>def max_water_difference (n k : Nat) (heights ...</td>\n",
       "      <td>interview</td>\n",
       "      <td>train</td>\n",
       "    </tr>\n",
       "  </tbody>\n",
       "</table>\n",
       "</div>"
      ],
      "text/plain": [
       "  apps_id                                      apps_question  \\\n",
       "0    0005  The sequence of $m$ integers is called the per...   \n",
       "1    0002  You are given three sequences: $a_1, a_2, \\ldo...   \n",
       "2    0004  You are given a permutation $p=[p_1, p_2, \\ldo...   \n",
       "3    0000  Polycarp has $n$ different binary words. A wor...   \n",
       "4    0006  Arthur owns a ski resort on a mountain. There ...   \n",
       "5    0007  The only difference between easy and hard vers...   \n",
       "6    0001  Mikhail walks on a Cartesian plane. He starts ...   \n",
       "7    0003  You have $n$ barrels lined up in a row, number...   \n",
       "\n",
       "                                                spec apps_difficulty  split  \n",
       "0  def find_permutations (sequence : List Nat) : ...       interview  train  \n",
       "1  def is_valid_sequence (seq : List Nat) : Bool ...       interview  train  \n",
       "2  def find_beautiful_numbers (permutation : List...       interview  train  \n",
       "3  def find_missing_numbers (nums : List Nat) : L...       interview  train  \n",
       "4  def solve_ski_resort (n : Nat) (tracks : List ...       interview  train  \n",
       "5  structure Heap where\\n  l : List Int\\n\\ndef He...       interview  train  \n",
       "6  def max_diagonal_moves (n m k : Int) : Int :=\\...       interview  train  \n",
       "7  def max_water_difference (n k : Nat) (heights ...       interview  train  "
      ]
     },
     "execution_count": 35,
     "metadata": {},
     "output_type": "execute_result"
    }
   ],
   "source": [
    "train"
   ]
  },
  {
   "cell_type": "code",
   "execution_count": null,
   "id": "1b991bb7-4318-4405-aa05-e0fb4bbd95d5",
   "metadata": {},
   "outputs": [],
   "source": []
  },
  {
   "cell_type": "code",
   "execution_count": null,
   "id": "5dd531d8-b00d-46f8-a7fa-8890b6149177",
   "metadata": {},
   "outputs": [],
   "source": []
  }
 ],
 "metadata": {
  "kernelspec": {
   "display_name": "Python 3 (ipykernel)",
   "language": "python",
   "name": "python3"
  },
  "language_info": {
   "codemirror_mode": {
    "name": "ipython",
    "version": 3
   },
   "file_extension": ".py",
   "mimetype": "text/x-python",
   "name": "python",
   "nbconvert_exporter": "python",
   "pygments_lexer": "ipython3",
   "version": "3.12.4"
  }
 },
 "nbformat": 4,
 "nbformat_minor": 5
}
