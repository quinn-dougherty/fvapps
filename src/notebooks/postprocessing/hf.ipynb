{
 "cells": [
  {
   "cell_type": "code",
   "execution_count": 2,
   "id": "f231a62a-be05-4663-803a-c9bed5fea85f",
   "metadata": {},
   "outputs": [],
   "source": [
    "import datasets\n",
    "import pandas as pd"
   ]
  },
  {
   "cell_type": "code",
   "execution_count": 13,
   "id": "1ea795e1-7bf6-4548-9d3f-299f72cf6c78",
   "metadata": {},
   "outputs": [],
   "source": [
    "fvapps = datasets.load_dataset(\"quinn-dougherty/fvapps\", split=\"train\") \n",
    "df = pd.DataFrame(fvapps)"
   ]
  },
  {
   "cell_type": "code",
   "execution_count": 9,
   "id": "e31ff33a-f54a-4d26-b6f3-df8920e17afc",
   "metadata": {},
   "outputs": [
    {
     "data": {
      "text/plain": [
       "apps_difficulty\n",
       "interview    1915\n",
       "Name: count, dtype: int64"
      ]
     },
     "execution_count": 9,
     "metadata": {},
     "output_type": "execute_result"
    }
   ],
   "source": [
    "df.apps_difficulty.value_counts()"
   ]
  },
  {
   "cell_type": "code",
   "execution_count": 25,
   "id": "0b4c61a0-b989-4892-bd45-c48913126925",
   "metadata": {},
   "outputs": [],
   "source": [
    "apps = datasets.load_dataset(\"codeparrot/apps\")\n",
    "apps_df = pd.concat([pd.DataFrame(apps[\"train\"]), pd.DataFrame(apps[\"test\"])])"
   ]
  },
  {
   "cell_type": "code",
   "execution_count": 26,
   "id": "3d4df7e1-05e9-4f4a-a2a9-999c7d13deed",
   "metadata": {},
   "outputs": [
    {
     "data": {
      "text/plain": [
       "difficulty\n",
       "interview       5000\n",
       "introductory    3639\n",
       "competition     1361\n",
       "Name: count, dtype: int64"
      ]
     },
     "execution_count": 26,
     "metadata": {},
     "output_type": "execute_result"
    }
   ],
   "source": [
    "apps_df.difficulty.value_counts()"
   ]
  },
  {
   "cell_type": "code",
   "execution_count": 27,
   "id": "80a37753-1c99-4f1d-b0c3-a390dd93fce6",
   "metadata": {},
   "outputs": [
    {
     "data": {
      "text/plain": [
       "difficulty\n",
       "introductory    2639\n",
       "interview       2000\n",
       "competition      361\n",
       "Name: count, dtype: int64"
      ]
     },
     "execution_count": 27,
     "metadata": {},
     "output_type": "execute_result"
    }
   ],
   "source": [
    "apps_train_df = pd.DataFrame(apps[\"train\"])\n",
    "apps_train_df.difficulty.value_counts()"
   ]
  },
  {
   "cell_type": "code",
   "execution_count": 29,
   "id": "b11b1174-1790-4035-9e89-0172f41a39b4",
   "metadata": {},
   "outputs": [
    {
     "data": {
      "text/html": [
       "<div>\n",
       "<style scoped>\n",
       "    .dataframe tbody tr th:only-of-type {\n",
       "        vertical-align: middle;\n",
       "    }\n",
       "\n",
       "    .dataframe tbody tr th {\n",
       "        vertical-align: top;\n",
       "    }\n",
       "\n",
       "    .dataframe thead th {\n",
       "        text-align: right;\n",
       "    }\n",
       "</style>\n",
       "<table border=\"1\" class=\"dataframe\">\n",
       "  <thead>\n",
       "    <tr style=\"text-align: right;\">\n",
       "      <th></th>\n",
       "      <th>problem_id</th>\n",
       "      <th>question</th>\n",
       "      <th>solutions</th>\n",
       "      <th>input_output</th>\n",
       "      <th>difficulty</th>\n",
       "      <th>url</th>\n",
       "      <th>starter_code</th>\n",
       "    </tr>\n",
       "  </thead>\n",
       "  <tbody>\n",
       "    <tr>\n",
       "      <th>0</th>\n",
       "      <td>0</td>\n",
       "      <td>Polycarp has $n$ different binary words. A wor...</td>\n",
       "      <td>[\"for _ in range(int(input())):\\n    n = int(i...</td>\n",
       "      <td>{\\n  \"inputs\": [\\n    \"4\\n4\\n0001\\n1000\\n0011\\...</td>\n",
       "      <td>interview</td>\n",
       "      <td>https://codeforces.com/problemset/problem/1259/D</td>\n",
       "      <td></td>\n",
       "    </tr>\n",
       "    <tr>\n",
       "      <th>1</th>\n",
       "      <td>1</td>\n",
       "      <td>Mikhail walks on a Cartesian plane. He starts ...</td>\n",
       "      <td>[\"q=int(input())\\n\\nfor e in range(q):\\n    x,...</td>\n",
       "      <td>{\\n  \"inputs\": [\\n    \"3\\n2 2 3\\n4 3 7\\n10 1 9...</td>\n",
       "      <td>interview</td>\n",
       "      <td>https://codeforces.com/problemset/problem/1036/B</td>\n",
       "      <td></td>\n",
       "    </tr>\n",
       "    <tr>\n",
       "      <th>2</th>\n",
       "      <td>2</td>\n",
       "      <td>You are given three sequences: $a_1, a_2, \\ldo...</td>\n",
       "      <td>[\"import sys\\nimport random\\nfrom fractions im...</td>\n",
       "      <td>{\\n  \"inputs\": [\\n    \"5\\n3\\n1 1 1\\n2 2 2\\n3 3...</td>\n",
       "      <td>interview</td>\n",
       "      <td>https://codeforces.com/problemset/problem/1408/A</td>\n",
       "      <td></td>\n",
       "    </tr>\n",
       "    <tr>\n",
       "      <th>3</th>\n",
       "      <td>3</td>\n",
       "      <td>You have $n$ barrels lined up in a row, number...</td>\n",
       "      <td>[\"def solve():\\n    n, k = map(int,input().spl...</td>\n",
       "      <td>{\\n  \"inputs\": [\\n    \"2\\n4 1\\n5 5 5 5\\n3 2\\n0...</td>\n",
       "      <td>interview</td>\n",
       "      <td>https://codeforces.com/problemset/problem/1430/B</td>\n",
       "      <td></td>\n",
       "    </tr>\n",
       "    <tr>\n",
       "      <th>4</th>\n",
       "      <td>4</td>\n",
       "      <td>You are given a permutation $p=[p_1, p_2, \\ldo...</td>\n",
       "      <td>[\"for _ in range(int(input())):\\n    input()\\n...</td>\n",
       "      <td>{\\n  \"inputs\": [\\n    \"3\\n6\\n4 5 1 3 2 6\\n5\\n5...</td>\n",
       "      <td>interview</td>\n",
       "      <td>https://codeforces.com/problemset/problem/1265/B</td>\n",
       "      <td></td>\n",
       "    </tr>\n",
       "    <tr>\n",
       "      <th>...</th>\n",
       "      <td>...</td>\n",
       "      <td>...</td>\n",
       "      <td>...</td>\n",
       "      <td>...</td>\n",
       "      <td>...</td>\n",
       "      <td>...</td>\n",
       "      <td>...</td>\n",
       "    </tr>\n",
       "    <tr>\n",
       "      <th>1995</th>\n",
       "      <td>1995</td>\n",
       "      <td>You are driving a vehicle that has capacity em...</td>\n",
       "      <td>[\"class Solution:\\n    def carPooling(self, tr...</td>\n",
       "      <td></td>\n",
       "      <td>interview</td>\n",
       "      <td>https://leetcode.com/problems/car-pooling/</td>\n",
       "      <td>\\nclass Solution:\\n    def carPooling(self, tr...</td>\n",
       "    </tr>\n",
       "    <tr>\n",
       "      <th>1996</th>\n",
       "      <td>1996</td>\n",
       "      <td>In a directed graph, we start at some node and...</td>\n",
       "      <td>[\"class Solution:\\n    def eventualSafeNodes(s...</td>\n",
       "      <td></td>\n",
       "      <td>interview</td>\n",
       "      <td>https://leetcode.com/problems/find-eventual-sa...</td>\n",
       "      <td>\\nclass Solution:\\n    def eventualSafeNodes(s...</td>\n",
       "    </tr>\n",
       "    <tr>\n",
       "      <th>1997</th>\n",
       "      <td>1997</td>\n",
       "      <td>Given a list of intervals, remove all interval...</td>\n",
       "      <td>[\"class Solution:\\n    def removeCoveredInterv...</td>\n",
       "      <td></td>\n",
       "      <td>interview</td>\n",
       "      <td>https://leetcode.com/problems/remove-covered-i...</td>\n",
       "      <td>\\nclass Solution:\\n    def removeCoveredInterv...</td>\n",
       "    </tr>\n",
       "    <tr>\n",
       "      <th>1998</th>\n",
       "      <td>1998</td>\n",
       "      <td>There are n cities connected by m flights. Eac...</td>\n",
       "      <td>[\"import collections\\n \\n solved_boards = {((1...</td>\n",
       "      <td></td>\n",
       "      <td>interview</td>\n",
       "      <td>https://leetcode.com/problems/cheapest-flights...</td>\n",
       "      <td>\\nclass Solution:\\n    def findCheapestPrice(s...</td>\n",
       "    </tr>\n",
       "    <tr>\n",
       "      <th>1999</th>\n",
       "      <td>1999</td>\n",
       "      <td>Given the head of a linked list, we repeatedly...</td>\n",
       "      <td>[\"# Definition for singly-linked list.\\n# clas...</td>\n",
       "      <td></td>\n",
       "      <td>interview</td>\n",
       "      <td>https://leetcode.com/problems/remove-zero-sum-...</td>\n",
       "      <td>\\n# Definition for singly-linked list.\\nclass ...</td>\n",
       "    </tr>\n",
       "  </tbody>\n",
       "</table>\n",
       "<p>2000 rows × 7 columns</p>\n",
       "</div>"
      ],
      "text/plain": [
       "      problem_id                                           question  \\\n",
       "0              0  Polycarp has $n$ different binary words. A wor...   \n",
       "1              1  Mikhail walks on a Cartesian plane. He starts ...   \n",
       "2              2  You are given three sequences: $a_1, a_2, \\ldo...   \n",
       "3              3  You have $n$ barrels lined up in a row, number...   \n",
       "4              4  You are given a permutation $p=[p_1, p_2, \\ldo...   \n",
       "...          ...                                                ...   \n",
       "1995        1995  You are driving a vehicle that has capacity em...   \n",
       "1996        1996  In a directed graph, we start at some node and...   \n",
       "1997        1997  Given a list of intervals, remove all interval...   \n",
       "1998        1998  There are n cities connected by m flights. Eac...   \n",
       "1999        1999  Given the head of a linked list, we repeatedly...   \n",
       "\n",
       "                                              solutions  \\\n",
       "0     [\"for _ in range(int(input())):\\n    n = int(i...   \n",
       "1     [\"q=int(input())\\n\\nfor e in range(q):\\n    x,...   \n",
       "2     [\"import sys\\nimport random\\nfrom fractions im...   \n",
       "3     [\"def solve():\\n    n, k = map(int,input().spl...   \n",
       "4     [\"for _ in range(int(input())):\\n    input()\\n...   \n",
       "...                                                 ...   \n",
       "1995  [\"class Solution:\\n    def carPooling(self, tr...   \n",
       "1996  [\"class Solution:\\n    def eventualSafeNodes(s...   \n",
       "1997  [\"class Solution:\\n    def removeCoveredInterv...   \n",
       "1998  [\"import collections\\n \\n solved_boards = {((1...   \n",
       "1999  [\"# Definition for singly-linked list.\\n# clas...   \n",
       "\n",
       "                                           input_output difficulty  \\\n",
       "0     {\\n  \"inputs\": [\\n    \"4\\n4\\n0001\\n1000\\n0011\\...  interview   \n",
       "1     {\\n  \"inputs\": [\\n    \"3\\n2 2 3\\n4 3 7\\n10 1 9...  interview   \n",
       "2     {\\n  \"inputs\": [\\n    \"5\\n3\\n1 1 1\\n2 2 2\\n3 3...  interview   \n",
       "3     {\\n  \"inputs\": [\\n    \"2\\n4 1\\n5 5 5 5\\n3 2\\n0...  interview   \n",
       "4     {\\n  \"inputs\": [\\n    \"3\\n6\\n4 5 1 3 2 6\\n5\\n5...  interview   \n",
       "...                                                 ...        ...   \n",
       "1995                                                     interview   \n",
       "1996                                                     interview   \n",
       "1997                                                     interview   \n",
       "1998                                                     interview   \n",
       "1999                                                     interview   \n",
       "\n",
       "                                                    url  \\\n",
       "0      https://codeforces.com/problemset/problem/1259/D   \n",
       "1      https://codeforces.com/problemset/problem/1036/B   \n",
       "2      https://codeforces.com/problemset/problem/1408/A   \n",
       "3      https://codeforces.com/problemset/problem/1430/B   \n",
       "4      https://codeforces.com/problemset/problem/1265/B   \n",
       "...                                                 ...   \n",
       "1995         https://leetcode.com/problems/car-pooling/   \n",
       "1996  https://leetcode.com/problems/find-eventual-sa...   \n",
       "1997  https://leetcode.com/problems/remove-covered-i...   \n",
       "1998  https://leetcode.com/problems/cheapest-flights...   \n",
       "1999  https://leetcode.com/problems/remove-zero-sum-...   \n",
       "\n",
       "                                           starter_code  \n",
       "0                                                        \n",
       "1                                                        \n",
       "2                                                        \n",
       "3                                                        \n",
       "4                                                        \n",
       "...                                                 ...  \n",
       "1995  \\nclass Solution:\\n    def carPooling(self, tr...  \n",
       "1996  \\nclass Solution:\\n    def eventualSafeNodes(s...  \n",
       "1997  \\nclass Solution:\\n    def removeCoveredInterv...  \n",
       "1998  \\nclass Solution:\\n    def findCheapestPrice(s...  \n",
       "1999  \\n# Definition for singly-linked list.\\nclass ...  \n",
       "\n",
       "[2000 rows x 7 columns]"
      ]
     },
     "execution_count": 29,
     "metadata": {},
     "output_type": "execute_result"
    }
   ],
   "source": [
    "apps_train_df[apps_train_df.difficulty == \"interview\"]\n"
   ]
  },
  {
   "cell_type": "code",
   "execution_count": null,
   "id": "c0468152-ddb5-475e-b39c-3eafdf08ef56",
   "metadata": {},
   "outputs": [],
   "source": []
  }
 ],
 "metadata": {
  "kernelspec": {
   "display_name": "Python 3 (ipykernel)",
   "language": "python",
   "name": "python3"
  },
  "language_info": {
   "codemirror_mode": {
    "name": "ipython",
    "version": 3
   },
   "file_extension": ".py",
   "mimetype": "text/x-python",
   "name": "python",
   "nbconvert_exporter": "python",
   "pygments_lexer": "ipython3",
   "version": "3.12.4"
  }
 },
 "nbformat": 4,
 "nbformat_minor": 5
}
