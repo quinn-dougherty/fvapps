{
 "cells": [
  {
   "cell_type": "code",
   "execution_count": 1,
   "metadata": {},
   "outputs": [],
   "source": [
    "from datasets import load_dataset\n",
    "\n",
    "dataset = load_dataset(\"quinn-dougherty/fvapps\", split=\"train\")"
   ]
  },
  {
   "cell_type": "markdown",
   "metadata": {},
   "source": [
    "# Collect Stats on Defs and Theorems"
   ]
  },
  {
   "cell_type": "code",
   "execution_count": 4,
   "metadata": {},
   "outputs": [],
   "source": [
    "import pandas as pd"
   ]
  },
  {
   "cell_type": "code",
   "execution_count": 3,
   "metadata": {},
   "outputs": [],
   "source": [
    "def theorem_counter(spec: str) -> int:\n",
    "    \"\"\"\n",
    "    This function counts the number of theorems in the spec\"\"\"\n",
    "    return spec.count(\"theorem\")\n",
    "\n",
    "\n",
    "def def_counter(spec: str) -> int:\n",
    "    \"\"\"\n",
    "    This function counts the number of definitions in the spec\"\"\"\n",
    "    return spec.count(\"def\")\n",
    "\n",
    "\n",
    "def total_count(spec: str) -> int:\n",
    "    \"\"\"\n",
    "    This function counts the total number of statements in the spec\"\"\"\n",
    "    return spec.count(\"def\") + spec.count(\"theorem\")"
   ]
  },
  {
   "cell_type": "code",
   "execution_count": 5,
   "metadata": {},
   "outputs": [],
   "source": [
    "counts_data = []\n",
    "\n",
    "for sample in dataset:\n",
    "    sample_res = {}\n",
    "    sample_res[\"theorem_count\"] = theorem_counter(sample[\"spec\"])\n",
    "    sample_res[\"def_count\"] = def_counter(sample[\"spec\"])\n",
    "    sample_res[\"total_count\"] = total_count(sample[\"spec\"])\n",
    "    counts_data.append(sample_res)\n",
    "\n",
    "counts_df = pd.DataFrame(counts_data)"
   ]
  },
  {
   "cell_type": "code",
   "execution_count": 6,
   "metadata": {},
   "outputs": [
    {
     "data": {
      "text/html": [
       "<div>\n",
       "<style scoped>\n",
       "    .dataframe tbody tr th:only-of-type {\n",
       "        vertical-align: middle;\n",
       "    }\n",
       "\n",
       "    .dataframe tbody tr th {\n",
       "        vertical-align: top;\n",
       "    }\n",
       "\n",
       "    .dataframe thead th {\n",
       "        text-align: right;\n",
       "    }\n",
       "</style>\n",
       "<table border=\"1\" class=\"dataframe\">\n",
       "  <thead>\n",
       "    <tr style=\"text-align: right;\">\n",
       "      <th></th>\n",
       "      <th>theorem_count</th>\n",
       "      <th>def_count</th>\n",
       "      <th>total_count</th>\n",
       "    </tr>\n",
       "  </thead>\n",
       "  <tbody>\n",
       "    <tr>\n",
       "      <th>count</th>\n",
       "      <td>1915.000000</td>\n",
       "      <td>1915.000000</td>\n",
       "      <td>1915.000000</td>\n",
       "    </tr>\n",
       "    <tr>\n",
       "      <th>mean</th>\n",
       "      <td>4.290339</td>\n",
       "      <td>1.895039</td>\n",
       "      <td>6.185379</td>\n",
       "    </tr>\n",
       "    <tr>\n",
       "      <th>std</th>\n",
       "      <td>1.487069</td>\n",
       "      <td>1.200379</td>\n",
       "      <td>1.938338</td>\n",
       "    </tr>\n",
       "    <tr>\n",
       "      <th>min</th>\n",
       "      <td>0.000000</td>\n",
       "      <td>0.000000</td>\n",
       "      <td>2.000000</td>\n",
       "    </tr>\n",
       "    <tr>\n",
       "      <th>25%</th>\n",
       "      <td>3.000000</td>\n",
       "      <td>1.000000</td>\n",
       "      <td>5.000000</td>\n",
       "    </tr>\n",
       "    <tr>\n",
       "      <th>50%</th>\n",
       "      <td>4.000000</td>\n",
       "      <td>2.000000</td>\n",
       "      <td>6.000000</td>\n",
       "    </tr>\n",
       "    <tr>\n",
       "      <th>75%</th>\n",
       "      <td>5.000000</td>\n",
       "      <td>2.000000</td>\n",
       "      <td>7.000000</td>\n",
       "    </tr>\n",
       "    <tr>\n",
       "      <th>max</th>\n",
       "      <td>17.000000</td>\n",
       "      <td>13.000000</td>\n",
       "      <td>18.000000</td>\n",
       "    </tr>\n",
       "  </tbody>\n",
       "</table>\n",
       "</div>"
      ],
      "text/plain": [
       "       theorem_count    def_count  total_count\n",
       "count    1915.000000  1915.000000  1915.000000\n",
       "mean        4.290339     1.895039     6.185379\n",
       "std         1.487069     1.200379     1.938338\n",
       "min         0.000000     0.000000     2.000000\n",
       "25%         3.000000     1.000000     5.000000\n",
       "50%         4.000000     2.000000     6.000000\n",
       "75%         5.000000     2.000000     7.000000\n",
       "max        17.000000    13.000000    18.000000"
      ]
     },
     "execution_count": 6,
     "metadata": {},
     "output_type": "execute_result"
    }
   ],
   "source": [
    "counts_df.describe()"
   ]
  }
 ],
 "metadata": {
  "kernelspec": {
   "display_name": ".venv",
   "language": "python",
   "name": "python3"
  },
  "language_info": {
   "codemirror_mode": {
    "name": "ipython",
    "version": 3
   },
   "file_extension": ".py",
   "mimetype": "text/x-python",
   "name": "python",
   "nbconvert_exporter": "python",
   "pygments_lexer": "ipython3",
   "version": "3.12.4"
  }
 },
 "nbformat": 4,
 "nbformat_minor": 2
}
