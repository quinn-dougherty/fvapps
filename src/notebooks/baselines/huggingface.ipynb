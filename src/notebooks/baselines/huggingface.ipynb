{
 "cells": [
  {
   "cell_type": "code",
   "execution_count": 1,
   "id": "2ba0e580-bb21-460e-a148-5d6d4f110839",
   "metadata": {},
   "outputs": [
    {
     "name": "stdout",
     "output_type": "stream",
     "text": [
      "Lean (version 4.14.0-nightly-2024-10-31, x86_64-unknown-linux-gnu, commit 0fcee100e7ea, Release)\n"
     ]
    }
   ],
   "source": [
    "!lean --version"
   ]
  },
  {
   "cell_type": "code",
   "execution_count": 8,
   "id": "dca3963c-d44f-475c-8e8c-517269297f53",
   "metadata": {},
   "outputs": [],
   "source": [
    "from transformers import AutoTokenizer, AutoModelForCausalLM\n",
    "from datasets import load_dataset\n",
    "import torch"
   ]
  },
  {
   "cell_type": "code",
   "execution_count": null,
   "id": "a6c2304d-009d-49de-9f81-c9e9b1dd16d7",
   "metadata": {},
   "outputs": [],
   "source": [
    "# Set the model name\n",
    "# model_name = \"deepseek-ai/DeepSeek-Prover-V1.5-RL\"\n",
    "model_name = \"HuggingFaceTB/SmolLM-135M-Instruct\" # small enough for testing\n",
    "\n",
    "# Load the tokenizer\n",
    "tokenizer = AutoTokenizer.from_pretrained(model_name)\n",
    "\n",
    "# Load the model\n",
    "model = AutoModelForCausalLM.from_pretrained(\n",
    "    model_name, torch_dtype=torch.float16, device_map=\"auto\", trust_remote_code=True\n",
    ")"
   ]
  },
  {
   "cell_type": "code",
   "execution_count": 9,
   "id": "62d0c837-2fdf-4467-a2f1-fd11dba503b4",
   "metadata": {},
   "outputs": [
    {
     "data": {
      "application/vnd.jupyter.widget-view+json": {
       "model_id": "9b75a7cc6795448c90f5e0abbbfaada8",
       "version_major": 2,
       "version_minor": 0
      },
      "text/plain": [
       "README.md:   0%|          | 0.00/1.83k [00:00<?, ?B/s]"
      ]
     },
     "metadata": {},
     "output_type": "display_data"
    },
    {
     "data": {
      "application/vnd.jupyter.widget-view+json": {
       "model_id": "ce4c8ef9bf364386b8edd9c0c996eff6",
       "version_major": 2,
       "version_minor": 0
      },
      "text/plain": [
       "train.jsonl:   0%|          | 0.00/164k [00:00<?, ?B/s]"
      ]
     },
     "metadata": {},
     "output_type": "display_data"
    },
    {
     "data": {
      "application/vnd.jupyter.widget-view+json": {
       "model_id": "1de3ac69084042a7aac8825b2ded9538",
       "version_major": 2,
       "version_minor": 0
      },
      "text/plain": [
       "test.jsonl:   0%|          | 0.00/127k [00:00<?, ?B/s]"
      ]
     },
     "metadata": {},
     "output_type": "display_data"
    },
    {
     "data": {
      "application/vnd.jupyter.widget-view+json": {
       "model_id": "da6ca5a23dbb41279267dc84252b637d",
       "version_major": 2,
       "version_minor": 0
      },
      "text/plain": [
       "Generating train split:   0%|          | 0/49 [00:00<?, ? examples/s]"
      ]
     },
     "metadata": {},
     "output_type": "display_data"
    },
    {
     "data": {
      "application/vnd.jupyter.widget-view+json": {
       "model_id": "1b0cc61b08954d6dbbe41b6d89811d68",
       "version_major": 2,
       "version_minor": 0
      },
      "text/plain": [
       "Generating test split:   0%|          | 0/45 [00:00<?, ? examples/s]"
      ]
     },
     "metadata": {},
     "output_type": "display_data"
    }
   ],
   "source": [
    "fvapps = load_dataset(\"quinn-dougherty/fvapps\")"
   ]
  },
  {
   "cell_type": "code",
   "execution_count": 6,
   "id": "9fa74591-a5d1-4d22-a3fe-7cc22541d008",
   "metadata": {},
   "outputs": [
    {
     "name": "stderr",
     "output_type": "stream",
     "text": [
      "/home/qd/Projects/safeguarded/autolean/fvapps/.venv/lib/python3.12/site-packages/transformers/generation/configuration_utils.py:601: UserWarning: `do_sample` is set to `False`. However, `temperature` is set to `0.8` -- this flag is only used in sample-based generation modes. You should set `do_sample=True` or unset `temperature`.\n",
      "  warnings.warn(\n",
      "Both `max_new_tokens` (=40) and `max_length`(=2048) seem to have been set. `max_new_tokens` will take precedence. Please refer to the documentation for more information. (https://huggingface.co/docs/transformers/main/en/main_classes/text_generation)\n"
     ]
    },
    {
     "name": "stdout",
     "output_type": "stream",
     "text": [
      "tensor([[ 2954,   307,   338,   260,  2028,   282,   827,   908,  2966,   314,\n",
      "           908,    30, 29856]])\n",
      "tensor([[ 2954,   307,   338,   260,  2028,   282,   827,   908,  2966,   314,\n",
      "           908,    30, 29856,   446,   216,    34,    28,  2753,   446,   216,\n",
      "            35,    28,   278,  1437,   446,   216,    36,    28,   265,  6299,\n",
      "           446,   216,    37,    28,   265, 45511,   446,   216,    38,    28,\n",
      "           287, 45511,   446,   216,    39,    28,   287,  6299,   446,   216,\n",
      "            40,    28,   287]])\n",
      "Prove that the sum of two even numbers is even. foo = 2, bar = 3, baz = 4, cbar = 5, cbaz = 6, dbaz = 7, dbar = 8, d\n"
     ]
    }
   ],
   "source": [
    "# Example usage\n",
    "input_text = \"Prove that the sum of two even numbers is even. foo\"\n",
    "input_ids = tokenizer.encode(input_text, return_tensors=\"pt\").to(model.device)\n",
    "print(input_ids)\n",
    "# Generate output\n",
    "with torch.no_grad():\n",
    "    output = model.generate(\n",
    "        input_ids, max_length=2 ** 11, num_return_sequences=1, temperature=0.8\n",
    "    )\n",
    "print(output)\n",
    "# Decode and print the output\n",
    "generated_text = tokenizer.decode(output[0], skip_special_tokens=True)\n",
    "print(generated_text)"
   ]
  },
  {
   "cell_type": "code",
   "execution_count": null,
   "id": "a514952a-8e17-4008-8567-2646c6bc3f83",
   "metadata": {},
   "outputs": [],
   "source": []
  },
  {
   "cell_type": "code",
   "execution_count": null,
   "id": "bfc8ef3d-c2e3-49ed-a50b-f21bff8ccf27",
   "metadata": {},
   "outputs": [],
   "source": []
  },
  {
   "cell_type": "code",
   "execution_count": null,
   "id": "a7a798a8-c605-4a2a-a635-371bfc9c1e32",
   "metadata": {},
   "outputs": [],
   "source": []
  }
 ],
 "metadata": {
  "kernelspec": {
   "display_name": "Python 3 (ipykernel)",
   "language": "python",
   "name": "python3"
  },
  "language_info": {
   "codemirror_mode": {
    "name": "ipython",
    "version": 3
   },
   "file_extension": ".py",
   "mimetype": "text/x-python",
   "name": "python",
   "nbconvert_exporter": "python",
   "pygments_lexer": "ipython3",
   "version": "3.12.4"
  }
 },
 "nbformat": 4,
 "nbformat_minor": 5
}
