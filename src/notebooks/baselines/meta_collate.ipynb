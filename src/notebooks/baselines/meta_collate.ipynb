{
 "cells": [
  {
   "cell_type": "markdown",
   "metadata": {},
   "source": [
    "# Collect Statistics of all FVAPPS baseline runs in a specific folder"
   ]
  },
  {
   "cell_type": "code",
   "execution_count": 21,
   "metadata": {},
   "outputs": [
    {
     "ename": "ModuleNotFoundError",
     "evalue": "No module named 'matplotlib'",
     "output_type": "error",
     "traceback": [
      "\u001b[0;31m---------------------------------------------------------------------------\u001b[0m",
      "\u001b[0;31mModuleNotFoundError\u001b[0m                       Traceback (most recent call last)",
      "Cell \u001b[0;32mIn[21], line 4\u001b[0m\n\u001b[1;32m      2\u001b[0m \u001b[38;5;28;01mimport\u001b[39;00m \u001b[38;5;21;01mjson\u001b[39;00m\n\u001b[1;32m      3\u001b[0m \u001b[38;5;28;01mimport\u001b[39;00m \u001b[38;5;21;01mpandas\u001b[39;00m \u001b[38;5;28;01mas\u001b[39;00m \u001b[38;5;21;01mpd\u001b[39;00m\n\u001b[0;32m----> 4\u001b[0m \u001b[38;5;28;01mimport\u001b[39;00m \u001b[38;5;21;01mmatplotlib\u001b[39;00m\u001b[38;5;21;01m.\u001b[39;00m\u001b[38;5;21;01mpyplot\u001b[39;00m \u001b[38;5;28;01mas\u001b[39;00m \u001b[38;5;21;01mplt\u001b[39;00m\n",
      "\u001b[0;31mModuleNotFoundError\u001b[0m: No module named 'matplotlib'"
     ]
    }
   ],
   "source": [
    "from pathlib import Path\n",
    "import json\n",
    "import pandas as pd"
   ]
  },
  {
   "cell_type": "code",
   "execution_count": 11,
   "metadata": {},
   "outputs": [],
   "source": [
    "up = Path(\"..\")\n",
    "path = up / up / up / \"artefacts\" / \"baselines\" / \"sonnet\" / \"train\""
   ]
  },
  {
   "cell_type": "code",
   "execution_count": 18,
   "metadata": {},
   "outputs": [
    {
     "name": "stdout",
     "output_type": "stream",
     "text": [
      "apps_id_4466\n",
      "apps_id_1233\n",
      "apps_id_2042\n",
      "apps_id_2397\n",
      "apps_id_2112\n",
      "apps_id_0077\n",
      "apps_id_4427\n",
      "apps_id_0256\n",
      "apps_id_1947\n",
      "apps_id_2273\n",
      "apps_id_0121\n",
      "apps_id_4172\n",
      "apps_id_2565\n",
      "apps_id_0716\n",
      "apps_id_0835\n",
      "apps_id_1962\n",
      "apps_id_0282\n",
      "apps_id_4338\n",
      "apps_id_4956\n",
      "apps_id_2459\n",
      "apps_id_1804\n",
      "apps_id_4975\n",
      "apps_id_0828\n",
      "apps_id_3347\n",
      "apps_id_3430\n"
     ]
    }
   ],
   "source": [
    "metadata_list = []\n",
    "for folder in path.iterdir():\n",
    "    if folder.name.startswith(\"apps_id\") and not folder.name.endswith(\"0023\"):\n",
    "        print(folder.name)\n",
    "        # Load metadata.json\n",
    "        with open(folder / \"metadata.json\", \"r\") as f:\n",
    "            metadata = json.load(f)\n",
    "        \n",
    "        if \"theorem_0_proven\" in metadata and metadata[\"theorem_0_proven\"]:\n",
    "            metadata[\"theorems_proven\"] += 1\n",
    "        if \"theorem_1_proven\" in metadata and metadata[\"theorem_1_proven\"]:\n",
    "            metadata[\"theorems_proven\"] += 1\n",
    "        metadata_list.append(metadata)\n",
    "\n",
    "df = pd.DataFrame(metadata_list)"
   ]
  },
  {
   "cell_type": "code",
   "execution_count": 19,
   "metadata": {},
   "outputs": [
    {
     "data": {
      "text/html": [
       "<div>\n",
       "<style scoped>\n",
       "    .dataframe tbody tr th:only-of-type {\n",
       "        vertical-align: middle;\n",
       "    }\n",
       "\n",
       "    .dataframe tbody tr th {\n",
       "        vertical-align: top;\n",
       "    }\n",
       "\n",
       "    .dataframe thead th {\n",
       "        text-align: right;\n",
       "    }\n",
       "</style>\n",
       "<table border=\"1\" class=\"dataframe\">\n",
       "  <thead>\n",
       "    <tr style=\"text-align: right;\">\n",
       "      <th></th>\n",
       "      <th>total_attempts_made</th>\n",
       "      <th>total_theorems_plus_defs</th>\n",
       "      <th>total_theorems</th>\n",
       "      <th>defs_attempts</th>\n",
       "      <th>theorems_proven</th>\n",
       "      <th>theorem_0_attempts</th>\n",
       "      <th>theorem_1_attempts</th>\n",
       "      <th>theorem_2_attempts</th>\n",
       "      <th>theorem_3_attempts</th>\n",
       "      <th>theorem_4_attempts</th>\n",
       "      <th>theorem_5_attempts</th>\n",
       "      <th>theorem_6_attempts</th>\n",
       "    </tr>\n",
       "  </thead>\n",
       "  <tbody>\n",
       "    <tr>\n",
       "      <th>count</th>\n",
       "      <td>25.0</td>\n",
       "      <td>25.000000</td>\n",
       "      <td>25.000000</td>\n",
       "      <td>25.00000</td>\n",
       "      <td>25.000000</td>\n",
       "      <td>24.000000</td>\n",
       "      <td>24.000000</td>\n",
       "      <td>23.0</td>\n",
       "      <td>16.0</td>\n",
       "      <td>8.0</td>\n",
       "      <td>2.0</td>\n",
       "      <td>1.0</td>\n",
       "    </tr>\n",
       "    <tr>\n",
       "      <th>mean</th>\n",
       "      <td>0.0</td>\n",
       "      <td>6.240000</td>\n",
       "      <td>3.920000</td>\n",
       "      <td>4.84000</td>\n",
       "      <td>0.280000</td>\n",
       "      <td>15.750000</td>\n",
       "      <td>18.500000</td>\n",
       "      <td>0.0</td>\n",
       "      <td>0.0</td>\n",
       "      <td>0.0</td>\n",
       "      <td>0.0</td>\n",
       "      <td>0.0</td>\n",
       "    </tr>\n",
       "    <tr>\n",
       "      <th>std</th>\n",
       "      <td>0.0</td>\n",
       "      <td>1.877054</td>\n",
       "      <td>1.382027</td>\n",
       "      <td>5.67656</td>\n",
       "      <td>0.458258</td>\n",
       "      <td>11.191029</td>\n",
       "      <td>10.615821</td>\n",
       "      <td>0.0</td>\n",
       "      <td>0.0</td>\n",
       "      <td>0.0</td>\n",
       "      <td>0.0</td>\n",
       "      <td>NaN</td>\n",
       "    </tr>\n",
       "    <tr>\n",
       "      <th>min</th>\n",
       "      <td>0.0</td>\n",
       "      <td>4.000000</td>\n",
       "      <td>0.000000</td>\n",
       "      <td>1.00000</td>\n",
       "      <td>0.000000</td>\n",
       "      <td>0.000000</td>\n",
       "      <td>0.000000</td>\n",
       "      <td>0.0</td>\n",
       "      <td>0.0</td>\n",
       "      <td>0.0</td>\n",
       "      <td>0.0</td>\n",
       "      <td>0.0</td>\n",
       "    </tr>\n",
       "    <tr>\n",
       "      <th>25%</th>\n",
       "      <td>0.0</td>\n",
       "      <td>5.000000</td>\n",
       "      <td>3.000000</td>\n",
       "      <td>1.00000</td>\n",
       "      <td>0.000000</td>\n",
       "      <td>2.500000</td>\n",
       "      <td>9.750000</td>\n",
       "      <td>0.0</td>\n",
       "      <td>0.0</td>\n",
       "      <td>0.0</td>\n",
       "      <td>0.0</td>\n",
       "      <td>0.0</td>\n",
       "    </tr>\n",
       "    <tr>\n",
       "      <th>50%</th>\n",
       "      <td>0.0</td>\n",
       "      <td>6.000000</td>\n",
       "      <td>4.000000</td>\n",
       "      <td>3.00000</td>\n",
       "      <td>0.000000</td>\n",
       "      <td>25.000000</td>\n",
       "      <td>25.000000</td>\n",
       "      <td>0.0</td>\n",
       "      <td>0.0</td>\n",
       "      <td>0.0</td>\n",
       "      <td>0.0</td>\n",
       "      <td>0.0</td>\n",
       "    </tr>\n",
       "    <tr>\n",
       "      <th>75%</th>\n",
       "      <td>0.0</td>\n",
       "      <td>8.000000</td>\n",
       "      <td>5.000000</td>\n",
       "      <td>6.00000</td>\n",
       "      <td>1.000000</td>\n",
       "      <td>25.000000</td>\n",
       "      <td>25.000000</td>\n",
       "      <td>0.0</td>\n",
       "      <td>0.0</td>\n",
       "      <td>0.0</td>\n",
       "      <td>0.0</td>\n",
       "      <td>0.0</td>\n",
       "    </tr>\n",
       "    <tr>\n",
       "      <th>max</th>\n",
       "      <td>0.0</td>\n",
       "      <td>10.000000</td>\n",
       "      <td>7.000000</td>\n",
       "      <td>25.00000</td>\n",
       "      <td>1.000000</td>\n",
       "      <td>25.000000</td>\n",
       "      <td>25.000000</td>\n",
       "      <td>0.0</td>\n",
       "      <td>0.0</td>\n",
       "      <td>0.0</td>\n",
       "      <td>0.0</td>\n",
       "      <td>0.0</td>\n",
       "    </tr>\n",
       "  </tbody>\n",
       "</table>\n",
       "</div>"
      ],
      "text/plain": [
       "       total_attempts_made  total_theorems_plus_defs  total_theorems  \\\n",
       "count                 25.0                 25.000000       25.000000   \n",
       "mean                   0.0                  6.240000        3.920000   \n",
       "std                    0.0                  1.877054        1.382027   \n",
       "min                    0.0                  4.000000        0.000000   \n",
       "25%                    0.0                  5.000000        3.000000   \n",
       "50%                    0.0                  6.000000        4.000000   \n",
       "75%                    0.0                  8.000000        5.000000   \n",
       "max                    0.0                 10.000000        7.000000   \n",
       "\n",
       "       defs_attempts  theorems_proven  theorem_0_attempts  theorem_1_attempts  \\\n",
       "count       25.00000        25.000000           24.000000           24.000000   \n",
       "mean         4.84000         0.280000           15.750000           18.500000   \n",
       "std          5.67656         0.458258           11.191029           10.615821   \n",
       "min          1.00000         0.000000            0.000000            0.000000   \n",
       "25%          1.00000         0.000000            2.500000            9.750000   \n",
       "50%          3.00000         0.000000           25.000000           25.000000   \n",
       "75%          6.00000         1.000000           25.000000           25.000000   \n",
       "max         25.00000         1.000000           25.000000           25.000000   \n",
       "\n",
       "       theorem_2_attempts  theorem_3_attempts  theorem_4_attempts  \\\n",
       "count                23.0                16.0                 8.0   \n",
       "mean                  0.0                 0.0                 0.0   \n",
       "std                   0.0                 0.0                 0.0   \n",
       "min                   0.0                 0.0                 0.0   \n",
       "25%                   0.0                 0.0                 0.0   \n",
       "50%                   0.0                 0.0                 0.0   \n",
       "75%                   0.0                 0.0                 0.0   \n",
       "max                   0.0                 0.0                 0.0   \n",
       "\n",
       "       theorem_5_attempts  theorem_6_attempts  \n",
       "count                 2.0                 1.0  \n",
       "mean                  0.0                 0.0  \n",
       "std                   0.0                 NaN  \n",
       "min                   0.0                 0.0  \n",
       "25%                   0.0                 0.0  \n",
       "50%                   0.0                 0.0  \n",
       "75%                   0.0                 0.0  \n",
       "max                   0.0                 0.0  "
      ]
     },
     "execution_count": 19,
     "metadata": {},
     "output_type": "execute_result"
    }
   ],
   "source": [
    "df.describe()"
   ]
  },
  {
   "cell_type": "code",
   "execution_count": 24,
   "metadata": {},
   "outputs": [
    {
     "name": "stdout",
     "output_type": "stream",
     "text": [
      "[25.0, 15.0, 25.0, nan, 0.0, 3.0, 0.0, 25.0, 25.0, 25.0, 25.0, 1.0, 25.0, 25.0, 0.0, 25.0, 25.0, 25.0, 0.0, 13.0, 17.0, 25.0, 25.0, 0.0, 4.0]\n",
      "[25.0, 25.0, 25.0, nan, 0.0, 25.0, 0.0, 25.0, 25.0, 25.0, 25.0, 25.0, 25.0, 25.0, 0.0, 25.0, 9.0, 25.0, 0.0, 10.0, 25.0, 25.0, 25.0, 0.0, 25.0]\n"
     ]
    }
   ],
   "source": [
    "# list of number of attempts for theorem 0\n",
    "print(df[\"theorem_0_attempts\"].tolist())\n",
    "# list of number of attempts for theorem 1\n",
    "print(df[\"theorem_1_attempts\"].tolist())"
   ]
  },
  {
   "cell_type": "code",
   "execution_count": 25,
   "metadata": {},
   "outputs": [
    {
     "name": "stdout",
     "output_type": "stream",
     "text": [
      "[1, 10, 4, 6, 1, 6, 25, 6, 3, 4, 2, 4, 1, 3, 1, 1, 3, 1, 1, 9, 10, 16, 1, 1, 1]\n"
     ]
    }
   ],
   "source": [
    "# list number of attempts for defs\n",
    "print(df[\"defs_attempts\"].tolist())\n"
   ]
  },
  {
   "cell_type": "code",
   "execution_count": null,
   "metadata": {},
   "outputs": [],
   "source": []
  }
 ],
 "metadata": {
  "kernelspec": {
   "display_name": "Python 3 (ipykernel)",
   "language": "python",
   "name": "python3"
  },
  "language_info": {
   "codemirror_mode": {
    "name": "ipython",
    "version": 3
   },
   "file_extension": ".py",
   "mimetype": "text/x-python",
   "name": "python",
   "nbconvert_exporter": "python",
   "pygments_lexer": "ipython3",
   "version": "3.12.4"
  }
 },
 "nbformat": 4,
 "nbformat_minor": 4
}
