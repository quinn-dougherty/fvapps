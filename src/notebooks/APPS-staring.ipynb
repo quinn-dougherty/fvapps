{
 "cells": [
  {
   "cell_type": "code",
   "execution_count": 2,
   "id": "80fd1cee-6d47-4fcc-beca-c141459f6eec",
   "metadata": {},
   "outputs": [],
   "source": [
    "from datasets import load_dataset\n",
    "import pandas as pd"
   ]
  },
  {
   "cell_type": "code",
   "execution_count": 3,
   "id": "fcb649a0-1dd4-4d1a-9f56-b5c835326ff0",
   "metadata": {},
   "outputs": [
    {
     "name": "stderr",
     "output_type": "stream",
     "text": [
      "Using the latest cached version of the module from /home/qd/.cache/huggingface/modules/datasets_modules/datasets/codeparrot--apps/04ac807715d07d6e5cc580f59cdc8213cd7dc4529d0bb819cca72c9f8e8c1aa5 (last modified on Wed Sep 11 12:44:02 2024) since it couldn't be found locally at codeparrot/apps, or remotely on the Hugging Face Hub.\n"
     ]
    }
   ],
   "source": [
    "apps = load_dataset(\"codeparrot/apps\", difficulties=[\"introductory\"]) # difficulties flag not working for some reason"
   ]
  },
  {
   "cell_type": "code",
   "execution_count": 4,
   "id": "5bd853fd-57ef-494e-a200-7db128141ed2",
   "metadata": {},
   "outputs": [],
   "source": [
    "df = pd.DataFrame(apps[\"train\"])"
   ]
  },
  {
   "cell_type": "code",
   "execution_count": 5,
   "id": "9f4dd708-b75d-4aff-9126-e121fa80488d",
   "metadata": {},
   "outputs": [],
   "source": [
    "introductory = df[df.difficulty == \"introductory\"]"
   ]
  },
  {
   "cell_type": "code",
   "execution_count": 6,
   "id": "9cf0c21c-9f12-4567-aa86-347ca8bf5607",
   "metadata": {},
   "outputs": [],
   "source": [
    "arrays = introductory[introductory.question.map(lambda s: \"array\" in s)]\n",
    "noarrays = introductory[introductory.question.map(lambda s: \"array\" not in s)]"
   ]
  },
  {
   "cell_type": "code",
   "execution_count": 7,
   "id": "ba6775de-b6fe-45df-925a-bd5f064a6236",
   "metadata": {},
   "outputs": [
    {
     "name": "stdout",
     "output_type": "stream",
     "text": [
      "(786, 7)\n",
      "(1853, 7)\n"
     ]
    }
   ],
   "source": [
    "print(arrays.shape)\n",
    "print(noarrays.shape)"
   ]
  },
  {
   "cell_type": "code",
   "execution_count": 8,
   "id": "18816b30-3fa7-4aba-81cf-2af8f831dacb",
   "metadata": {},
   "outputs": [
    {
     "name": "stdout",
     "output_type": "stream",
     "text": [
      "$n$ robots have escaped from your laboratory! You have to find them as soon as possible, because these robots are experimental, and their behavior is not tested yet, so they may be really dangerous!\n",
      "\n",
      "Fortunately, even though your robots have escaped, you still have some control over them. First of all, you know the location of each robot: the world you live in can be modeled as an infinite coordinate plane, and the $i$-th robot is currently located at the point having coordinates ($x_i$, $y_i$). Furthermore, you may send exactly one command to all of the robots. The command should contain two integer numbers $X$ and $Y$, and when each robot receives this command, it starts moving towards the point having coordinates ($X$, $Y$). The robot stops its movement in two cases:  either it reaches ($X$, $Y$);  or it cannot get any closer to ($X$, $Y$). \n",
      "\n",
      "Normally, all robots should be able to get from any point of the coordinate plane to any other point. Each robot usually can perform four actions to move. Let's denote the current coordinates of the robot as ($x_c$, $y_c$). Then the movement system allows it to move to any of the four adjacent points:  the first action allows it to move from ($x_c$, $y_c$) to ($x_c - 1$, $y_c$);  the second action allows it to move from ($x_c$, $y_c$) to ($x_c$, $y_c + 1$);  the third action allows it to move from ($x_c$, $y_c$) to ($x_c + 1$, $y_c$);  the fourth action allows it to move from ($x_c$, $y_c$) to ($x_c$, $y_c - 1$). \n",
      "\n",
      "Unfortunately, it seems that some movement systems of some robots are malfunctioning. For each robot you know which actions it can perform, and which it cannot perform.\n",
      "\n",
      "You want to send a command so all robots gather at the same point. To do so, you have to choose a pair of integer numbers $X$ and $Y$ so that each robot can reach the point ($X$, $Y$). Is it possible to find such a point?\n",
      "\n",
      "\n",
      "-----Input-----\n",
      "\n",
      "The first line contains one integer $q$ ($1 \\le q \\le 10^5$) — the number of queries.\n",
      "\n",
      "Then $q$ queries follow. Each query begins with one line containing one integer $n$ ($1 \\le n \\le 10^5$) — the number of robots in the query. Then $n$ lines follow, the $i$-th of these lines describes the $i$-th robot in the current query: it contains six integer numbers $x_i$, $y_i$, $f_{i, 1}$, $f_{i, 2}$, $f_{i, 3}$ and $f_{i, 4}$ ($-10^5 \\le x_i, y_i \\le 10^5$, $0 \\le f_{i, j} \\le 1$). The first two numbers describe the initial location of the $i$-th robot, and the following four numbers describe which actions the $i$-th robot can use to move ($f_{i, j} = 1$ if the $i$-th robot can use the $j$-th action, and $f_{i, j} = 0$ if it cannot use the $j$-th action).\n",
      "\n",
      "It is guaranteed that the total number of robots over all queries does not exceed $10^5$.\n",
      "\n",
      "\n",
      "-----Output-----\n",
      "\n",
      "You should answer each query independently, in the order these queries appear in the input.\n",
      "\n",
      "To answer a query, you should do one of the following:  if it is impossible to find a point that is reachable by all $n$ robots, print one number $0$ on a separate line;  if it is possible to find a point that is reachable by all $n$ robots, print three space-separated integers on the same line: $1$ $X$ $Y$, where $X$ and $Y$ are the coordinates of the point reachable by all $n$ robots. Both $X$ and $Y$ should not exceed $10^5$ by absolute value; it is guaranteed that if there exists at least one point reachable by all robots, then at least one of such points has both coordinates not exceeding $10^5$ by absolute value.\n",
      "\n",
      "\n",
      "-----Example-----\n",
      "Input\n",
      "4\n",
      "2\n",
      "-1 -2 0 0 0 0\n",
      "-1 -2 0 0 0 0\n",
      "3\n",
      "1 5 1 1 1 1\n",
      "2 5 0 1 0 1\n",
      "3 5 1 0 0 0\n",
      "2\n",
      "1337 1337 0 1 1 1\n",
      "1336 1337 1 1 0 1\n",
      "1\n",
      "3 5 1 1 1 1\n",
      "\n",
      "Output\n",
      "1 -1 -2\n",
      "1 2 5\n",
      "0\n",
      "1 -100000 -100000\n"
     ]
    },
    {
     "data": {
      "text/plain": [
       "2362    $n$ robots have escaped from your laboratory! ...\n",
       "2363    There are $n$ athletes in front of you. Athlet...\n",
       "2366    Polycarp analyzes the prices of the new berPho...\n",
       "2367    You are given two strings $s$ and $t$ both of ...\n",
       "2368    You have $n$ gifts and you want to give all of...\n",
       "                              ...                        \n",
       "4991    I will give you two strings. I want you to tra...\n",
       "4993    The description is rather long but you are giv...\n",
       "4994    A grammar is a set of rules that let us define...\n",
       "4995    Another rewarding day in the fast-paced world ...\n",
       "4997    The function sigma 1, σ1 in mathematics, is kn...\n",
       "Name: question, Length: 1853, dtype: object"
      ]
     },
     "execution_count": 8,
     "metadata": {},
     "output_type": "execute_result"
    }
   ],
   "source": [
    "print(list(noarrays.question)[0])\n",
    "noarrays.question"
   ]
  },
  {
   "cell_type": "code",
   "execution_count": 100,
   "id": "d7b6516d-bf88-44aa-91b2-e454ae36cd9b",
   "metadata": {},
   "outputs": [
    {
     "name": "stdout",
     "output_type": "stream",
     "text": [
      "4004\n",
      "Find the first character that repeats in a String and return that character. \n",
      "\n",
      "```python\n",
      "first_dup('tweet') => 't'\n",
      "first_dup('like') => None\n",
      "```\n",
      "\n",
      "*This is not the same as finding the character that repeats first.*\n",
      "*In that case, an input of 'tweet' would yield 'e'.*\n"
     ]
    }
   ],
   "source": [
    "samp = noarrays.sample(1)\n",
    "print(samp.problem_id.values[0])\n",
    "print(samp.question.values[0])"
   ]
  },
  {
   "cell_type": "code",
   "execution_count": 97,
   "id": "6ace71f5-5660-4968-a1c0-98f8f9afd3c1",
   "metadata": {},
   "outputs": [],
   "source": [
    "imp_requires_str = {3380, 2726, 3613, 3887, 4004}\n",
    "imp_requires_print = {2362, 2726, 3887, }\n",
    "imp_requires_array = {4960, 2561, 2768, 3138, 3606}"
   ]
  },
  {
   "cell_type": "code",
   "execution_count": 99,
   "id": "d11ddc13-e4c9-4797-8d44-89631af624d2",
   "metadata": {},
   "outputs": [],
   "source": [
    "candidate_lean = {3380, 3885, 2726, 3613, 3962, 3346, 4960, 2561, 3151, 2768, 3138, 2520, 4152, 4693, 3606, 3000, 4004}\n",
    "# candidate imp assumes no new language features, \n",
    "candidate_imp = {3885, 3962, 3346, 3151, 2520, 4152, 4693, 3000}"
   ]
  },
  {
   "cell_type": "code",
   "execution_count": 80,
   "id": "be822d35-cf10-4ae1-843d-0689051e70ee",
   "metadata": {},
   "outputs": [],
   "source": [
    "none = {4924, }"
   ]
  },
  {
   "cell_type": "code",
   "execution_count": 101,
   "id": "07e3e4e4-fcb2-4ed5-b470-20ab6e562f4f",
   "metadata": {},
   "outputs": [],
   "source": [
    "has_both_dumb_and_smart_solution = {}\n",
    "can_easily_see_propertytest = {}"
   ]
  },
  {
   "cell_type": "code",
   "execution_count": 102,
   "id": "36b1a273-65c4-4399-96a7-e377b9a2c975",
   "metadata": {},
   "outputs": [
    {
     "data": {
      "text/plain": [
       "{1, 2}"
      ]
     },
     "execution_count": 102,
     "metadata": {},
     "output_type": "execute_result"
    }
   ],
   "source": [
    "{1,2,1}"
   ]
  },
  {
   "cell_type": "code",
   "execution_count": 106,
   "id": "44582d03-d6c1-40ad-869b-40d07fc51006",
   "metadata": {},
   "outputs": [
    {
     "ename": "KeyError",
     "evalue": "\"None of [Index([2561, 3138, 3151, 2768, 3346, 4693, 3606, 2520, 4152, 3613, 4960, 2726,\\n       3885, 3380, 3000, 3962],\\n      dtype='int64')] are in the [columns]\"",
     "output_type": "error",
     "traceback": [
      "\u001b[0;31m---------------------------------------------------------------------------\u001b[0m",
      "\u001b[0;31mKeyError\u001b[0m                                  Traceback (most recent call last)",
      "Cell \u001b[0;32mIn[106], line 1\u001b[0m\n\u001b[0;32m----> 1\u001b[0m \u001b[43mnoarrays\u001b[49m\u001b[43m[\u001b[49m\u001b[38;5;28;43mlist\u001b[39;49m\u001b[43m(\u001b[49m\u001b[43m{\u001b[49m\u001b[38;5;241;43m3380\u001b[39;49m\u001b[43m,\u001b[49m\u001b[43m \u001b[49m\u001b[38;5;241;43m3885\u001b[39;49m\u001b[43m,\u001b[49m\u001b[43m \u001b[49m\u001b[38;5;241;43m2726\u001b[39;49m\u001b[43m,\u001b[49m\u001b[43m \u001b[49m\u001b[38;5;241;43m3613\u001b[39;49m\u001b[43m,\u001b[49m\u001b[43m \u001b[49m\u001b[38;5;241;43m3962\u001b[39;49m\u001b[43m,\u001b[49m\u001b[43m \u001b[49m\u001b[38;5;241;43m3346\u001b[39;49m\u001b[43m,\u001b[49m\u001b[43m \u001b[49m\u001b[38;5;241;43m4960\u001b[39;49m\u001b[43m,\u001b[49m\u001b[43m \u001b[49m\u001b[38;5;241;43m2561\u001b[39;49m\u001b[43m,\u001b[49m\u001b[43m \u001b[49m\u001b[38;5;241;43m3151\u001b[39;49m\u001b[43m,\u001b[49m\u001b[43m \u001b[49m\u001b[38;5;241;43m2768\u001b[39;49m\u001b[43m,\u001b[49m\u001b[43m \u001b[49m\u001b[38;5;241;43m3138\u001b[39;49m\u001b[43m,\u001b[49m\u001b[43m \u001b[49m\u001b[38;5;241;43m2520\u001b[39;49m\u001b[43m,\u001b[49m\u001b[43m \u001b[49m\u001b[38;5;241;43m4152\u001b[39;49m\u001b[43m,\u001b[49m\u001b[43m \u001b[49m\u001b[38;5;241;43m4693\u001b[39;49m\u001b[43m,\u001b[49m\u001b[43m \u001b[49m\u001b[38;5;241;43m3606\u001b[39;49m\u001b[43m,\u001b[49m\u001b[43m \u001b[49m\u001b[38;5;241;43m3000\u001b[39;49m\u001b[43m}\u001b[49m\u001b[43m)\u001b[49m\u001b[43m]\u001b[49m\n",
      "File \u001b[0;32m~/Projects/safeguarded/autolean/fvapps/nb/.venv/lib/python3.12/site-packages/pandas/core/frame.py:4108\u001b[0m, in \u001b[0;36mDataFrame.__getitem__\u001b[0;34m(self, key)\u001b[0m\n\u001b[1;32m   4106\u001b[0m     \u001b[38;5;28;01mif\u001b[39;00m is_iterator(key):\n\u001b[1;32m   4107\u001b[0m         key \u001b[38;5;241m=\u001b[39m \u001b[38;5;28mlist\u001b[39m(key)\n\u001b[0;32m-> 4108\u001b[0m     indexer \u001b[38;5;241m=\u001b[39m \u001b[38;5;28;43mself\u001b[39;49m\u001b[38;5;241;43m.\u001b[39;49m\u001b[43mcolumns\u001b[49m\u001b[38;5;241;43m.\u001b[39;49m\u001b[43m_get_indexer_strict\u001b[49m\u001b[43m(\u001b[49m\u001b[43mkey\u001b[49m\u001b[43m,\u001b[49m\u001b[43m \u001b[49m\u001b[38;5;124;43m\"\u001b[39;49m\u001b[38;5;124;43mcolumns\u001b[39;49m\u001b[38;5;124;43m\"\u001b[39;49m\u001b[43m)\u001b[49m[\u001b[38;5;241m1\u001b[39m]\n\u001b[1;32m   4110\u001b[0m \u001b[38;5;66;03m# take() does not accept boolean indexers\u001b[39;00m\n\u001b[1;32m   4111\u001b[0m \u001b[38;5;28;01mif\u001b[39;00m \u001b[38;5;28mgetattr\u001b[39m(indexer, \u001b[38;5;124m\"\u001b[39m\u001b[38;5;124mdtype\u001b[39m\u001b[38;5;124m\"\u001b[39m, \u001b[38;5;28;01mNone\u001b[39;00m) \u001b[38;5;241m==\u001b[39m \u001b[38;5;28mbool\u001b[39m:\n",
      "File \u001b[0;32m~/Projects/safeguarded/autolean/fvapps/nb/.venv/lib/python3.12/site-packages/pandas/core/indexes/base.py:6200\u001b[0m, in \u001b[0;36mIndex._get_indexer_strict\u001b[0;34m(self, key, axis_name)\u001b[0m\n\u001b[1;32m   6197\u001b[0m \u001b[38;5;28;01melse\u001b[39;00m:\n\u001b[1;32m   6198\u001b[0m     keyarr, indexer, new_indexer \u001b[38;5;241m=\u001b[39m \u001b[38;5;28mself\u001b[39m\u001b[38;5;241m.\u001b[39m_reindex_non_unique(keyarr)\n\u001b[0;32m-> 6200\u001b[0m \u001b[38;5;28;43mself\u001b[39;49m\u001b[38;5;241;43m.\u001b[39;49m\u001b[43m_raise_if_missing\u001b[49m\u001b[43m(\u001b[49m\u001b[43mkeyarr\u001b[49m\u001b[43m,\u001b[49m\u001b[43m \u001b[49m\u001b[43mindexer\u001b[49m\u001b[43m,\u001b[49m\u001b[43m \u001b[49m\u001b[43maxis_name\u001b[49m\u001b[43m)\u001b[49m\n\u001b[1;32m   6202\u001b[0m keyarr \u001b[38;5;241m=\u001b[39m \u001b[38;5;28mself\u001b[39m\u001b[38;5;241m.\u001b[39mtake(indexer)\n\u001b[1;32m   6203\u001b[0m \u001b[38;5;28;01mif\u001b[39;00m \u001b[38;5;28misinstance\u001b[39m(key, Index):\n\u001b[1;32m   6204\u001b[0m     \u001b[38;5;66;03m# GH 42790 - Preserve name from an Index\u001b[39;00m\n",
      "File \u001b[0;32m~/Projects/safeguarded/autolean/fvapps/nb/.venv/lib/python3.12/site-packages/pandas/core/indexes/base.py:6249\u001b[0m, in \u001b[0;36mIndex._raise_if_missing\u001b[0;34m(self, key, indexer, axis_name)\u001b[0m\n\u001b[1;32m   6247\u001b[0m \u001b[38;5;28;01mif\u001b[39;00m nmissing:\n\u001b[1;32m   6248\u001b[0m     \u001b[38;5;28;01mif\u001b[39;00m nmissing \u001b[38;5;241m==\u001b[39m \u001b[38;5;28mlen\u001b[39m(indexer):\n\u001b[0;32m-> 6249\u001b[0m         \u001b[38;5;28;01mraise\u001b[39;00m \u001b[38;5;167;01mKeyError\u001b[39;00m(\u001b[38;5;124mf\u001b[39m\u001b[38;5;124m\"\u001b[39m\u001b[38;5;124mNone of [\u001b[39m\u001b[38;5;132;01m{\u001b[39;00mkey\u001b[38;5;132;01m}\u001b[39;00m\u001b[38;5;124m] are in the [\u001b[39m\u001b[38;5;132;01m{\u001b[39;00maxis_name\u001b[38;5;132;01m}\u001b[39;00m\u001b[38;5;124m]\u001b[39m\u001b[38;5;124m\"\u001b[39m)\n\u001b[1;32m   6251\u001b[0m     not_found \u001b[38;5;241m=\u001b[39m \u001b[38;5;28mlist\u001b[39m(ensure_index(key)[missing_mask\u001b[38;5;241m.\u001b[39mnonzero()[\u001b[38;5;241m0\u001b[39m]]\u001b[38;5;241m.\u001b[39munique())\n\u001b[1;32m   6252\u001b[0m     \u001b[38;5;28;01mraise\u001b[39;00m \u001b[38;5;167;01mKeyError\u001b[39;00m(\u001b[38;5;124mf\u001b[39m\u001b[38;5;124m\"\u001b[39m\u001b[38;5;132;01m{\u001b[39;00mnot_found\u001b[38;5;132;01m}\u001b[39;00m\u001b[38;5;124m not in index\u001b[39m\u001b[38;5;124m\"\u001b[39m)\n",
      "\u001b[0;31mKeyError\u001b[0m: \"None of [Index([2561, 3138, 3151, 2768, 3346, 4693, 3606, 2520, 4152, 3613, 4960, 2726,\\n       3885, 3380, 3000, 3962],\\n      dtype='int64')] are in the [columns]\""
     ]
    }
   ],
   "source": [
    "noarrays[list({3380, 3885, 2726, 3613, 3962, 3346, 4960, 2561, 3151, 2768, 3138, 2520, 4152, 4693, 3606, 3000})]"
   ]
  },
  {
   "cell_type": "code",
   "execution_count": 107,
   "id": "523a33f4-18dc-4b92-a548-16e4cd219ceb",
   "metadata": {},
   "outputs": [
    {
     "data": {
      "text/html": [
       "<div>\n",
       "<style scoped>\n",
       "    .dataframe tbody tr th:only-of-type {\n",
       "        vertical-align: middle;\n",
       "    }\n",
       "\n",
       "    .dataframe tbody tr th {\n",
       "        vertical-align: top;\n",
       "    }\n",
       "\n",
       "    .dataframe thead th {\n",
       "        text-align: right;\n",
       "    }\n",
       "</style>\n",
       "<table border=\"1\" class=\"dataframe\">\n",
       "  <thead>\n",
       "    <tr style=\"text-align: right;\">\n",
       "      <th></th>\n",
       "      <th>problem_id</th>\n",
       "      <th>question</th>\n",
       "      <th>solutions</th>\n",
       "      <th>input_output</th>\n",
       "      <th>difficulty</th>\n",
       "      <th>url</th>\n",
       "      <th>starter_code</th>\n",
       "    </tr>\n",
       "  </thead>\n",
       "  <tbody>\n",
       "    <tr>\n",
       "      <th>2362</th>\n",
       "      <td>2362</td>\n",
       "      <td>$n$ robots have escaped from your laboratory! ...</td>\n",
       "      <td>[\"def main():\\n    import sys\\n    input = sys...</td>\n",
       "      <td>{\\n  \"inputs\": [\\n    \"4\\n2\\n-1 -2 0 0 0 0\\n-1...</td>\n",
       "      <td>introductory</td>\n",
       "      <td>https://codeforces.com/problemset/problem/1196/C</td>\n",
       "      <td></td>\n",
       "    </tr>\n",
       "    <tr>\n",
       "      <th>2363</th>\n",
       "      <td>2363</td>\n",
       "      <td>There are $n$ athletes in front of you. Athlet...</td>\n",
       "      <td>[\"\\nT = int(input())\\n\\nfor _ in range(T):\\n  ...</td>\n",
       "      <td>{\\n  \"inputs\": [\\n    \"5\\n5\\n3 1 2 6 4\\n6\\n2 1...</td>\n",
       "      <td>introductory</td>\n",
       "      <td>https://codeforces.com/problemset/problem/1360/B</td>\n",
       "      <td></td>\n",
       "    </tr>\n",
       "    <tr>\n",
       "      <th>2366</th>\n",
       "      <td>2366</td>\n",
       "      <td>Polycarp analyzes the prices of the new berPho...</td>\n",
       "      <td>[\"for _ in range(int(input())):\\n    n = int(i...</td>\n",
       "      <td>{\\n  \"inputs\": [\\n    \"5\\n6\\n3 9 4 6 7 5\\n1\\n1...</td>\n",
       "      <td>introductory</td>\n",
       "      <td>https://codeforces.com/problemset/problem/1213/B</td>\n",
       "      <td></td>\n",
       "    </tr>\n",
       "    <tr>\n",
       "      <th>2367</th>\n",
       "      <td>2367</td>\n",
       "      <td>You are given two strings $s$ and $t$ both of ...</td>\n",
       "      <td>[\"q = int(input())\\nfor _ in range(q) :\\n  n =...</td>\n",
       "      <td>{\\n  \"inputs\": [\\n    \"4\\n4\\nabcd\\nabdc\\n5\\nab...</td>\n",
       "      <td>introductory</td>\n",
       "      <td>https://codeforces.com/problemset/problem/1256/F</td>\n",
       "      <td></td>\n",
       "    </tr>\n",
       "    <tr>\n",
       "      <th>2368</th>\n",
       "      <td>2368</td>\n",
       "      <td>You have $n$ gifts and you want to give all of...</td>\n",
       "      <td>[\"t = int(input())\\n\\nfor _ in range(t):\\n    ...</td>\n",
       "      <td>{\\n  \"inputs\": [\\n    \"5\\n3\\n3 5 6\\n3 2 3\\n5\\n...</td>\n",
       "      <td>introductory</td>\n",
       "      <td>https://codeforces.com/problemset/problem/1399/B</td>\n",
       "      <td></td>\n",
       "    </tr>\n",
       "    <tr>\n",
       "      <th>...</th>\n",
       "      <td>...</td>\n",
       "      <td>...</td>\n",
       "      <td>...</td>\n",
       "      <td>...</td>\n",
       "      <td>...</td>\n",
       "      <td>...</td>\n",
       "      <td>...</td>\n",
       "    </tr>\n",
       "    <tr>\n",
       "      <th>4991</th>\n",
       "      <td>4991</td>\n",
       "      <td>I will give you two strings. I want you to tra...</td>\n",
       "      <td>[\"def mutate_my_strings(s1,s2):\\n    return '\\...</td>\n",
       "      <td>{\"fn_name\": \"mutate_my_strings\", \"inputs\": [],...</td>\n",
       "      <td>introductory</td>\n",
       "      <td>https://www.codewars.com/kata/59bc0059bf10a498...</td>\n",
       "      <td>\\ndef mutate_my_strings(s1,s2):\\n\\t</td>\n",
       "    </tr>\n",
       "    <tr>\n",
       "      <th>4993</th>\n",
       "      <td>4993</td>\n",
       "      <td>The description is rather long but you are giv...</td>\n",
       "      <td>[\"from math import sin, atan\\n\\ndef temps(v0, ...</td>\n",
       "      <td>{\"fn_name\": \"temps\", \"inputs\": [], \"outputs\": []}</td>\n",
       "      <td>introductory</td>\n",
       "      <td>https://www.codewars.com/kata/5879f95892074d76...</td>\n",
       "      <td>\\ndef temps(v0, slope, d_tot):\\n\\t</td>\n",
       "    </tr>\n",
       "    <tr>\n",
       "      <th>4994</th>\n",
       "      <td>4994</td>\n",
       "      <td>A grammar is a set of rules that let us define...</td>\n",
       "      <td>[\"def word_problem(rules: List[Tuple[str, str]...</td>\n",
       "      <td>{\"fn_name\": \"word_problem\", \"inputs\": [], \"out...</td>\n",
       "      <td>introductory</td>\n",
       "      <td>https://www.codewars.com/kata/5e453b6476551c00...</td>\n",
       "      <td>\\ndef word_problem(rules:\\n\\t</td>\n",
       "    </tr>\n",
       "    <tr>\n",
       "      <th>4995</th>\n",
       "      <td>4995</td>\n",
       "      <td>Another rewarding day in the fast-paced world ...</td>\n",
       "      <td>[\"class HTMLGen:\\n    def __init__(self):\\n   ...</td>\n",
       "      <td>{\"fn_name\": \"__init__\", \"inputs\": [], \"outputs...</td>\n",
       "      <td>introductory</td>\n",
       "      <td>https://www.codewars.com/kata/54eecc187f9142cc...</td>\n",
       "      <td>\\ndef __init__(self):\\n\\t</td>\n",
       "    </tr>\n",
       "    <tr>\n",
       "      <th>4997</th>\n",
       "      <td>4997</td>\n",
       "      <td>The function sigma 1, σ1 in mathematics, is kn...</td>\n",
       "      <td>[\"cache = {}\\ndef sum_div(x):\\n    if x not in...</td>\n",
       "      <td>{\"fn_name\": \"sigma1\", \"inputs\": [], \"outputs\":...</td>\n",
       "      <td>introductory</td>\n",
       "      <td>https://www.codewars.com/kata/5619dbc22e69620e...</td>\n",
       "      <td>\\ndef sigma1(n):\\n\\t</td>\n",
       "    </tr>\n",
       "  </tbody>\n",
       "</table>\n",
       "<p>1853 rows × 7 columns</p>\n",
       "</div>"
      ],
      "text/plain": [
       "      problem_id                                           question  \\\n",
       "2362        2362  $n$ robots have escaped from your laboratory! ...   \n",
       "2363        2363  There are $n$ athletes in front of you. Athlet...   \n",
       "2366        2366  Polycarp analyzes the prices of the new berPho...   \n",
       "2367        2367  You are given two strings $s$ and $t$ both of ...   \n",
       "2368        2368  You have $n$ gifts and you want to give all of...   \n",
       "...          ...                                                ...   \n",
       "4991        4991  I will give you two strings. I want you to tra...   \n",
       "4993        4993  The description is rather long but you are giv...   \n",
       "4994        4994  A grammar is a set of rules that let us define...   \n",
       "4995        4995  Another rewarding day in the fast-paced world ...   \n",
       "4997        4997  The function sigma 1, σ1 in mathematics, is kn...   \n",
       "\n",
       "                                              solutions  \\\n",
       "2362  [\"def main():\\n    import sys\\n    input = sys...   \n",
       "2363  [\"\\nT = int(input())\\n\\nfor _ in range(T):\\n  ...   \n",
       "2366  [\"for _ in range(int(input())):\\n    n = int(i...   \n",
       "2367  [\"q = int(input())\\nfor _ in range(q) :\\n  n =...   \n",
       "2368  [\"t = int(input())\\n\\nfor _ in range(t):\\n    ...   \n",
       "...                                                 ...   \n",
       "4991  [\"def mutate_my_strings(s1,s2):\\n    return '\\...   \n",
       "4993  [\"from math import sin, atan\\n\\ndef temps(v0, ...   \n",
       "4994  [\"def word_problem(rules: List[Tuple[str, str]...   \n",
       "4995  [\"class HTMLGen:\\n    def __init__(self):\\n   ...   \n",
       "4997  [\"cache = {}\\ndef sum_div(x):\\n    if x not in...   \n",
       "\n",
       "                                           input_output    difficulty  \\\n",
       "2362  {\\n  \"inputs\": [\\n    \"4\\n2\\n-1 -2 0 0 0 0\\n-1...  introductory   \n",
       "2363  {\\n  \"inputs\": [\\n    \"5\\n5\\n3 1 2 6 4\\n6\\n2 1...  introductory   \n",
       "2366  {\\n  \"inputs\": [\\n    \"5\\n6\\n3 9 4 6 7 5\\n1\\n1...  introductory   \n",
       "2367  {\\n  \"inputs\": [\\n    \"4\\n4\\nabcd\\nabdc\\n5\\nab...  introductory   \n",
       "2368  {\\n  \"inputs\": [\\n    \"5\\n3\\n3 5 6\\n3 2 3\\n5\\n...  introductory   \n",
       "...                                                 ...           ...   \n",
       "4991  {\"fn_name\": \"mutate_my_strings\", \"inputs\": [],...  introductory   \n",
       "4993  {\"fn_name\": \"temps\", \"inputs\": [], \"outputs\": []}  introductory   \n",
       "4994  {\"fn_name\": \"word_problem\", \"inputs\": [], \"out...  introductory   \n",
       "4995  {\"fn_name\": \"__init__\", \"inputs\": [], \"outputs...  introductory   \n",
       "4997  {\"fn_name\": \"sigma1\", \"inputs\": [], \"outputs\":...  introductory   \n",
       "\n",
       "                                                    url  \\\n",
       "2362   https://codeforces.com/problemset/problem/1196/C   \n",
       "2363   https://codeforces.com/problemset/problem/1360/B   \n",
       "2366   https://codeforces.com/problemset/problem/1213/B   \n",
       "2367   https://codeforces.com/problemset/problem/1256/F   \n",
       "2368   https://codeforces.com/problemset/problem/1399/B   \n",
       "...                                                 ...   \n",
       "4991  https://www.codewars.com/kata/59bc0059bf10a498...   \n",
       "4993  https://www.codewars.com/kata/5879f95892074d76...   \n",
       "4994  https://www.codewars.com/kata/5e453b6476551c00...   \n",
       "4995  https://www.codewars.com/kata/54eecc187f9142cc...   \n",
       "4997  https://www.codewars.com/kata/5619dbc22e69620e...   \n",
       "\n",
       "                             starter_code  \n",
       "2362                                       \n",
       "2363                                       \n",
       "2366                                       \n",
       "2367                                       \n",
       "2368                                       \n",
       "...                                   ...  \n",
       "4991  \\ndef mutate_my_strings(s1,s2):\\n\\t  \n",
       "4993   \\ndef temps(v0, slope, d_tot):\\n\\t  \n",
       "4994        \\ndef word_problem(rules:\\n\\t  \n",
       "4995            \\ndef __init__(self):\\n\\t  \n",
       "4997                 \\ndef sigma1(n):\\n\\t  \n",
       "\n",
       "[1853 rows x 7 columns]"
      ]
     },
     "execution_count": 107,
     "metadata": {},
     "output_type": "execute_result"
    }
   ],
   "source": [
    "noarrays"
   ]
  },
  {
   "cell_type": "code",
   "execution_count": 13,
   "id": "8748eda4-698f-4068-9580-af7a5362bc70",
   "metadata": {},
   "outputs": [
    {
     "data": {
      "text/plain": [
       "'[\"from bisect import bisect_left\\\\n\\\\na = [12, 15, 35, 42, 60, 63, 66, 68, 84, 90, 95, 110, 114, 119, 140, 143, 152, 168, 189, 195, 204, 209, 216, 234, 245, 258, 264, 270, 280, 287, 290, 294, 297, 319, 322, 323, 352, 368, 377, 380, 384, 396, 470, 476, 480, 506, 510, 527, 531, 544, 552, 558, 559, 572, 588, 616, 621, 693, 702, 741, 744, 756, 760, 779, 812, 819, 825, 837, 855, 880, 899, 902, 923, 940, 950, 952, 989, 990, 1007, 1010, 1026, 1044, 1056, 1064, 1078, 1080, 1102, 1144, 1170, 1188, 1189, 1197, 1199, 1280, 1288, 1292, 1298, 1334, 1343, 1349, 1365, 1372, 1375, 1386, 1392, 1440, 1456, 1470, 1494, 1566, 1595, 1620, 1625, 1638, 1652, 1672, 1696, 1700, 1704, 1750, 1763, 1768, 1785, 1804, 1836, 1840, 1845, 1887, 1908, 1914, 1917, 1919, 1944, 1950, 1980, 1989, 1998, 2024, 2052, 2060, 2070, 2075, 2080, 2107, 2130, 2145, 2158, 2159, 2162, 2208, 2240, 2242, 2272, 2340, 2392, 2448, 2464, 2496, 2507, 2520, 2541, 2632, 2660, 2668, 2673, 2688, 2691, 2728, 2759, 2772, 2784, 2805, 2808, 2828, 2835, 2842, 2882, 2911, 2970, 2992, 3000, 3002, 3015, 3026, 3069, 3072, 3078, 3096, 3132, 3159, 3160, 3168, 3239, 3266, 3300, 3304, 3366, 3375, 3402, 3422, 3471, 3485, 3496, 3500, 3560, 3572, 3596, 3599, 3624, 3652, 3690, 3705, 3720, 3752, 3773, 3784, 3816, 3818, 3827, 3840, 3852, 3933, 3936, 3952, 3990, 4018, 4031, 4060, 4077, 4116, 4128, 4136, 4165, 4182, 4216, 4256, 4264, 4292, 4305, 4320, 4368, 4389, 4410, 4437, 4446, 4522, 4524, 4557, 4592, 4607, 4625, 4644, 4648, 4653, 4655, 4662, 4680, 4704, 4706, 4719, 4720, 4731, 4736, 4750, 4785, 4806, 4810, 4860, 4864, 4872, 4992, 4998, 5005, 5015, 5032, 5040, 5070, 5076, 5125, 5166, 5175, 5183, 5200, 5207, 5225, 5229, 5249, 5264, 5307, 5310, 5346, 5400, 5424, 5434, 5452, 5459, 5460, 5472, 5508, 5543, 5544, 5546, 5560, 5586, 5590, 5664, 5698, 5704, 5720, 5728, 5775, 5800, 5848, 5850, 5865, 5886, 5950, 5992, 6000, 6006, 6018, 6039, 6095, 6150, 6156, 6160, 6171, 6250, 6256, 6270, 6424, 6439, 6460, 6510, 6517, 6528, 6565, 6579, 6580, 6600, 6624, 6656, 6660, 6688, 6725, 6750, 6776, 6802, 6804, 6806, 6816, 6837, 6840, 6860, 6887, 6903, 6909, 6944, 6952, 6960, 7007, 7038, 7040, 7050, 7052, 7067, 7140, 7144, 7150, 7176, 7210, 7236, 7254, 7279, 7314, 7336, 7384, 7395, 7410, 7425, 7426, 7462, 7506, 7524, 7532, 7544, 7568, 7581, 7616, 7668, 7682, 7700, 7701, 7722, 7735, 7739, 7742, 7750, 7752, 7821, 7830, 7872, 7878, 7888, 7904, 7912, 7964, 8140, 8159, 8225, 8232, 8280, 8330, 8349, 8352, 8379, 8385, 8397, 8415, 8470, 8500, 8528, 8568, 8575, 8580, 8639, 8642, 8673, 8692, 8721, 8745, 8786, 8800, 8829, 8832, 8856, 8874, 8960, 8964, 8991, 8993, 9063, 9064, 9088, 9112, 9164, 9179, 9180, 9218, 9240, 9256, 9282, 9308, 9310, 9328, 9352, 9375, 9432, 9460, 9468, 9504, 9537, 9593, 9633, 9639, 9660, 9701, 9720, 9768, 9794, 9799, 9856, 9869, 9870, 9900, 9911, 9912, 9920, 9933, 9936, 9947, 9956, 9963, 9996, 10005, 10064, 10080, 10120, 10150, 10185, 10200, 10207, 10240, 10283, 10296, 10395, 10403, 10465, 10494, 10502, 10508, 10528, 10545, 10582, 10647, 10660, 10664, 10672, 10763, 10792, 10848, 10864, 10877, 10880, 10989, 11050, 11088, 11109, 11125, 11128, 11132, 11151, 11160, 11172, 11176, 11193, 11214, 11223, 11224, 11253, 11266, 11275, 11305, 11340, 11342, 11408, 11417, 11439, 11468, 11475, 11500, 11505, 11556, 11560, 11613, 11648, 11659, 11662, 11663, 11682, 11750, 11774, 11800, 11844, 11865, 11904, 11970, 11979, 11985, 12000, 12006, 12095, 12098, 12136, 12141, 12180, 12208, 12222, 12240, 12276, 12319, 12328, 12360, 12366, 12397, 12412, 12441, 12460, 12474, 12519, 12524, 12540, 12555, 12558, 12561, 12576, 12580, 12628, 12638, 12712, 12740, 12784, 12792, 12851, 12903, 12960, 12975, 12992, 13056, 13068, 13144, 13199, 13209, 13230, 13260, 13280, 13300, 13332, 13439, 13464, 13500, 13509, 13529, 13536, 13566, 13572, 13585, 13608, 13629, 13653, 13662, 13677, 13702, 13716, 13720, 13750, 13761, 13770, 13826, 13840, 13862, 13869, 13912, 13919, 14098, 14100, 14104, 14105, 14144, 14145, 14190, 14195, 14250, 14256, 14259, 14260, 14299, 14326, 14344, 14382, 14396, 14402, 14504, 14514, 14520, 14616, 14632, 14645, 14685, 14688, 14690, 14700, 14732, 14749, 14824, 14850, 14875, 14940, 14950, 14972, 14973, 14994, 15008, 15050, 15066, 15088, 15105, 15210, 15249, 15250, 15272, 15288, 15435, 15480, 15503, 15539, 15540, 15544, 15582, 15602, 15631, 15664, 15698, 15708, 15730, 15732, 15785, 15870, 15873, 15878, 15912, 15930, 15960]\\\\n\\\\ndef ds_multof_pfs(n, m):\\\\n    return a[bisect_left(a, n):bisect_left(a, m + 1)]\", \"import operator as op\\\\nfrom functools import reduce\\\\n\\\\ndef memoize(func):\\\\n    cache = {}\\\\n    def newfunc(*args):\\\\n        if args not in cache: cache[args] = func(*args)\\\\n        return cache[args]\\\\n    return newfunc\\\\n\\\\n@memoize\\\\ndef factors_of(n):\\\\n    result = []\\\\n    i = 2\\\\n    while i <= n:\\\\n        if n % i == 0:\\\\n            multiplicity = 0\\\\n            while n % i == 0:\\\\n                n = n / i\\\\n                multiplicity += 1\\\\n            result.append((i, multiplicity))\\\\n        i += 1\\\\n    return result\\\\n\\\\ndef filter_func(n):\\\\n    factors = factors_of(n)\\\\n    pfs = sum(p*i for p, i in factors)\\\\n    ds = reduce(op.mul, ((p**(i+1) - 1) / (p - 1) for p, i in factors))\\\\n    \\\\n    return ds % pfs == 0\\\\n    \\\\ndef ds_multof_pfs(nMin, nMax):\\\\n    return list(filter(filter_func, range(nMin, nMax+1)))[:]\\\\n\", \"from functools import lru_cache as LC\\\\nFC = lambda n,li=[],j=2:(FC(n,li,j+1) if n%j else FC(n//j,li+[j],j)) if j*j<=n else sum(li+[[],[n]][n>1])\\\\nGF = LC(None)(lambda n:FC(n))\\\\nGD = LC(None)(lambda n:sum(sum([[i,n//i] for i in range(1,int(n**.5)+1) if not n%i],[])))\\\\nds_multof_pfs = lambda start,end:[i for i in range(start,end+1) if not GD(i)%GF(i)]\", \"a = [1] * 20000\\\\na[0] = a[1] = 0\\\\nfor i in range(2, 20000):\\\\n    if a[i]:\\\\n        for j in range(i**2, 20000, i):\\\\n            a[j] = 0\\\\na = [i for i, x in enumerate(a) if x]\\\\n\\\\ndef ds_multof_pfs(a, b):\\\\n    return [i for i in range(a, b + 1) if not divisors(i) % primes(i)]\\\\n\\\\ndef divisors(n):\\\\n    r = 0\\\\n    for i in range(1, int(n**0.5) + 1):\\\\n        if not n % i:\\\\n            r += i\\\\n            if i * i != n:\\\\n                r += n // i\\\\n    return r\\\\n\\\\ndef primes(n):\\\\n    r = 0\\\\n    for x in a:\\\\n        while not n % x:\\\\n            r += x\\\\n            n //= x\\\\n        if n == 1:\\\\n            return r\", \"import math\\\\n\\\\ndef PrimeFactorsSum(nr):\\\\n    res = []\\\\n    s = 1\\\\n    for i in range(2,int(math.sqrt(nr) + 1)):\\\\n        cs = 1\\\\n        ct = 1\\\\n        while nr % i == 0:\\\\n            res.append(i)\\\\n            nr //= i\\\\n            ct *= i\\\\n            cs += ct\\\\n        s *= cs\\\\n    if nr > 2:\\\\n        s *= (nr + 1)\\\\n        res.append(nr)\\\\n    if res and s % sum(res) == 0:\\\\n        return True\\\\n    return False\\\\n\\\\ndef ds_multof_pfs(nMin, nMax):\\\\n    res = []\\\\n    i = nMin\\\\n    while i <= nMax:\\\\n        if PrimeFactorsSum(i):\\\\n            res.append(i)\\\\n        i += 1\\\\n    return res\", \"from functools import lru_cache\\\\nFC = lambda n, li=[], j=2:(FC(n, li, j+1) if n%j else FC(n//j, li+[j], j)) if j*j<=n else sum(li + [[],[n]][n>1])\\\\nget_factors = lru_cache(None)(lambda n:FC(n))\\\\nget_divisors = lru_cache(None)(lambda n:sum(sum([[i,n//i] for i in range(1,int(n**.5)+1) if not n % i], [])))\\\\nds_multof_pfs = lambda start, end:[i for i in range(start, end+1) if not get_divisors(i) % get_factors(i)]\"]'"
      ]
     },
     "execution_count": 13,
     "metadata": {},
     "output_type": "execute_result"
    }
   ],
   "source": [
    "introductory.solutions.sample(1).values[0]"
   ]
  },
  {
   "cell_type": "code",
   "execution_count": null,
   "id": "382ce962-07b4-4a6c-bd7d-cc49c0ae8db2",
   "metadata": {},
   "outputs": [],
   "source": []
  }
 ],
 "metadata": {
  "kernelspec": {
   "display_name": "Python 3 (ipykernel)",
   "language": "python",
   "name": "python3"
  },
  "language_info": {
   "codemirror_mode": {
    "name": "ipython",
    "version": 3
   },
   "file_extension": ".py",
   "mimetype": "text/x-python",
   "name": "python",
   "nbconvert_exporter": "python",
   "pygments_lexer": "ipython3",
   "version": "3.12.4"
  }
 },
 "nbformat": 4,
 "nbformat_minor": 5
}
