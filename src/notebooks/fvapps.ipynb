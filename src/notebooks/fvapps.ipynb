{
 "cells": [
  {
   "cell_type": "code",
   "execution_count": 1,
   "id": "3d6799d7-0b6c-4020-99e4-924c5eecc7a3",
   "metadata": {},
   "outputs": [],
   "source": [
    "import datasets\n",
    "import pandas as pd"
   ]
  },
  {
   "cell_type": "code",
   "execution_count": 4,
   "id": "b98e35e5-f31b-4ea2-8217-f4c0ea63e588",
   "metadata": {},
   "outputs": [],
   "source": [
    "fvapps = datasets.load_dataset(\"quinn-dougherty/fvapps\", split=\"train\")\n",
    "df = pd.DataFrame(fvapps)"
   ]
  },
  {
   "cell_type": "code",
   "execution_count": 7,
   "id": "c192abe8-f159-4a8c-bdcf-d9184beaee7d",
   "metadata": {},
   "outputs": [],
   "source": [
    "fortythree0four = df[df.apps_id == \"4304\"]"
   ]
  },
  {
   "cell_type": "code",
   "execution_count": 14,
   "id": "633835be-3e8a-47e1-9b19-ff3b2347612f",
   "metadata": {},
   "outputs": [
    {
     "name": "stdout",
     "output_type": "stream",
     "text": [
      "Introduction \n",
      "\n",
      "Mr. Safety loves numeric locks and his Nokia 3310. He locked almost everything in his house. He is so smart and he doesn't need to remember the combinations. He has an algorithm to generate new passcodes on his Nokia cell phone. \n",
      "\n",
      "\n",
      " Task \n",
      "\n",
      "Can you crack his numeric locks? Mr. Safety's treasures wait for you. Write an algorithm to open his numeric locks. Can you do it without his Nokia 3310? \n",
      "\n",
      "Input \n",
      "\n",
      "The `str` or `message` (Python) input string consists of lowercase and upercase characters. It's a real object that you want to unlock.\n",
      "\n",
      "Output \n",
      "Return a string that only consists of digits.\n",
      "\n",
      "Example\n",
      "```\n",
      "unlock(\"Nokia\")  // => 66542\n",
      "unlock(\"Valut\")  // => 82588\n",
      "unlock(\"toilet\") // => 864538\n",
      "```\n"
     ]
    }
   ],
   "source": [
    "print(fortythree0four.apps_question.values[0])"
   ]
  },
  {
   "cell_type": "code",
   "execution_count": 15,
   "id": "f3a18193-b37a-4bf7-b529-ab5b1ccb7e80",
   "metadata": {},
   "outputs": [
    {
     "name": "stdout",
     "output_type": "stream",
     "text": [
      "def unlock (s : String) : String := sorry \n",
      "\n",
      "theorem unlock_concatenation (s1 s2 : String) : \n",
      "  unlock (s1 ++ s2) = unlock s1 ++ unlock s2 := sorry\n",
      "\n",
      "theorem unlock_lowercase_a : unlock \"a\" = \"2\" := sorry\n",
      "theorem unlock_lowercase_b : unlock \"b\" = \"2\" := sorry\n",
      "theorem unlock_lowercase_c : unlock \"c\" = \"2\" := sorry\n",
      "\n",
      "theorem unlock_lowercase_d : unlock \"d\" = \"3\" := sorry\n",
      "theorem unlock_lowercase_e : unlock \"e\" = \"3\" := sorry\n",
      "theorem unlock_lowercase_f : unlock \"f\" = \"3\" := sorry\n",
      "\n",
      "theorem unlock_lowercase_g : unlock \"g\" = \"4\" := sorry\n",
      "theorem unlock_lowercase_h : unlock \"h\" = \"4\" := sorry\n",
      "theorem unlock_lowercase_i : unlock \"i\" = \"4\" := sorry\n",
      "\n",
      "theorem unlock_lowercase_j : unlock \"j\" = \"5\" := sorry\n",
      "theorem unlock_lowercase_k : unlock \"k\" = \"5\" := sorry\n",
      "theorem unlock_lowercase_l : unlock \"l\" = \"5\" := sorry\n",
      "\n",
      "theorem unlock_lowercase_m : unlock \"m\" = \"6\" := sorry\n",
      "theorem unlock_lowercase_n : unlock \"n\" = \"6\" := sorry\n",
      "theorem unlock_lowercase_o : unlock \"o\" = \"6\" := sorry\n",
      "\n",
      "theorem unlock_lowercase_p : unlock \"p\" = \"7\" := sorry\n",
      "theorem unlock_lowercase_q : unlock \"q\" = \"7\" := sorry\n",
      "theorem unlock_lowercase_r : unlock \"r\" = \"7\" := sorry\n",
      "theorem unlock_lowercase_s : unlock \"s\" = \"7\" := sorry\n",
      "\n",
      "theorem unlock_lowercase_t : unlock \"t\" = \"8\" := sorry\n",
      "theorem unlock_lowercase_u : unlock \"u\" = \"8\" := sorry\n",
      "theorem unlock_lowercase_v : unlock \"v\" = \"8\" := sorry\n",
      "\n",
      "theorem unlock_lowercase_w : unlock \"w\" = \"9\" := sorry\n",
      "theorem unlock_lowercase_x : unlock \"x\" = \"9\" := sorry\n",
      "theorem unlock_lowercase_y : unlock \"y\" = \"9\" := sorry\n",
      "theorem unlock_lowercase_z : unlock \"z\" = \"9\" := sorry\n",
      "\n",
      "theorem unlock_uppercase_a : unlock \"A\" = \"2\" := sorry\n",
      "theorem unlock_uppercase_b : unlock \"B\" = \"2\" := sorry\n",
      "theorem unlock_uppercase_c : unlock \"C\" = \"2\" := sorry\n",
      "\n",
      "theorem unlock_uppercase_d : unlock \"D\" = \"3\" := sorry\n",
      "theorem unlock_uppercase_e : unlock \"E\" = \"3\" := sorry\n",
      "theorem unlock_uppercase_f : unlock \"F\" = \"3\" := sorry\n",
      "\n",
      "theorem unlock_uppercase_g : unlock \"G\" = \"4\" := sorry\n",
      "theorem unlock_uppercase_h : unlock \"H\" = \"4\" := sorry\n",
      "theorem unlock_uppercase_i : unlock \"I\" = \"4\" := sorry\n",
      "\n",
      "theorem unlock_uppercase_j : unlock \"J\" = \"5\" := sorry\n",
      "theorem unlock_uppercase_k : unlock \"K\" = \"5\" := sorry\n",
      "theorem unlock_uppercase_l : unlock \"L\" = \"5\" := sorry\n",
      "\n",
      "theorem unlock_uppercase_m : unlock \"M\" = \"6\" := sorry\n",
      "theorem unlock_uppercase_n : unlock \"N\" = \"6\" := sorry\n",
      "theorem unlock_uppercase_o : unlock \"O\" = \"6\" := sorry\n",
      "\n",
      "theorem unlock_uppercase_p : unlock \"P\" = \"7\" := sorry\n",
      "theorem unlock_uppercase_q : unlock \"Q\" = \"7\" := sorry\n",
      "theorem unlock_uppercase_r : unlock \"R\" = \"7\" := sorry\n",
      "theorem unlock_uppercase_s : unlock \"S\" = \"7\" := sorry\n",
      "\n",
      "theorem unlock_uppercase_t : unlock \"T\" = \"8\" := sorry\n",
      "theorem unlock_uppercase_u : unlock \"U\" = \"8\" := sorry\n",
      "theorem unlock_uppercase_v : unlock \"V\" = \"8\" := sorry\n",
      "\n",
      "theorem unlock_uppercase_w : unlock \"W\" = \"9\" := sorry\n",
      "theorem unlock_uppercase_x : unlock \"X\" = \"9\" := sorry\n",
      "theorem unlock_uppercase_y : unlock \"Y\" = \"9\" := sorry\n",
      "theorem unlock_uppercase_z : unlock \"Z\" = \"9\" := sorry\n"
     ]
    }
   ],
   "source": [
    "print(fortythree0four.spec.values[0])"
   ]
  },
  {
   "cell_type": "code",
   "execution_count": 16,
   "id": "2e138a09-385c-46ab-86de-6f4048ce9b3f",
   "metadata": {},
   "outputs": [
    {
     "data": {
      "text/html": [
       "<div>\n",
       "<style scoped>\n",
       "    .dataframe tbody tr th:only-of-type {\n",
       "        vertical-align: middle;\n",
       "    }\n",
       "\n",
       "    .dataframe tbody tr th {\n",
       "        vertical-align: top;\n",
       "    }\n",
       "\n",
       "    .dataframe thead th {\n",
       "        text-align: right;\n",
       "    }\n",
       "</style>\n",
       "<table border=\"1\" class=\"dataframe\">\n",
       "  <thead>\n",
       "    <tr style=\"text-align: right;\">\n",
       "      <th></th>\n",
       "      <th>apps_id</th>\n",
       "      <th>apps_question</th>\n",
       "      <th>spec</th>\n",
       "      <th>sorries</th>\n",
       "      <th>apps_difficulty</th>\n",
       "      <th>split</th>\n",
       "    </tr>\n",
       "  </thead>\n",
       "  <tbody>\n",
       "    <tr>\n",
       "      <th>1245</th>\n",
       "      <td>0016</td>\n",
       "      <td>Polycarp, Arkady's friend, prepares to the pro...</td>\n",
       "      <td>structure Problem where\\n  score : Nat\\n  diff...</td>\n",
       "      <td>5</td>\n",
       "      <td>interview</td>\n",
       "      <td>train</td>\n",
       "    </tr>\n",
       "  </tbody>\n",
       "</table>\n",
       "</div>"
      ],
      "text/plain": [
       "     apps_id                                      apps_question  \\\n",
       "1245    0016  Polycarp, Arkady's friend, prepares to the pro...   \n",
       "\n",
       "                                                   spec  sorries  \\\n",
       "1245  structure Problem where\\n  score : Nat\\n  diff...        5   \n",
       "\n",
       "     apps_difficulty  split  \n",
       "1245       interview  train  "
      ]
     },
     "execution_count": 16,
     "metadata": {},
     "output_type": "execute_result"
    }
   ],
   "source": [
    "df[df.apps_id == \"0016\"]"
   ]
  },
  {
   "cell_type": "code",
   "execution_count": 19,
   "id": "1b7a3246-b6a3-4493-a6b3-b9d0e75e8874",
   "metadata": {},
   "outputs": [
    {
     "ename": "KeyError",
     "evalue": "'0023'",
     "output_type": "error",
     "traceback": [
      "\u001b[0;31m---------------------------------------------------------------------------\u001b[0m",
      "\u001b[0;31mKeyError\u001b[0m                                  Traceback (most recent call last)",
      "File \u001b[0;32m~/Projects/safeguarded/autolean/fvapps/.venv/lib/python3.12/site-packages/pandas/core/indexes/base.py:3805\u001b[0m, in \u001b[0;36mIndex.get_loc\u001b[0;34m(self, key)\u001b[0m\n\u001b[1;32m   3804\u001b[0m \u001b[38;5;28;01mtry\u001b[39;00m:\n\u001b[0;32m-> 3805\u001b[0m     \u001b[38;5;28;01mreturn\u001b[39;00m \u001b[38;5;28;43mself\u001b[39;49m\u001b[38;5;241;43m.\u001b[39;49m\u001b[43m_engine\u001b[49m\u001b[38;5;241;43m.\u001b[39;49m\u001b[43mget_loc\u001b[49m\u001b[43m(\u001b[49m\u001b[43mcasted_key\u001b[49m\u001b[43m)\u001b[49m\n\u001b[1;32m   3806\u001b[0m \u001b[38;5;28;01mexcept\u001b[39;00m \u001b[38;5;167;01mKeyError\u001b[39;00m \u001b[38;5;28;01mas\u001b[39;00m err:\n",
      "File \u001b[0;32mindex.pyx:167\u001b[0m, in \u001b[0;36mpandas._libs.index.IndexEngine.get_loc\u001b[0;34m()\u001b[0m\n",
      "File \u001b[0;32mindex.pyx:196\u001b[0m, in \u001b[0;36mpandas._libs.index.IndexEngine.get_loc\u001b[0;34m()\u001b[0m\n",
      "File \u001b[0;32mpandas/_libs/hashtable_class_helper.pxi:7081\u001b[0m, in \u001b[0;36mpandas._libs.hashtable.PyObjectHashTable.get_item\u001b[0;34m()\u001b[0m\n",
      "File \u001b[0;32mpandas/_libs/hashtable_class_helper.pxi:7089\u001b[0m, in \u001b[0;36mpandas._libs.hashtable.PyObjectHashTable.get_item\u001b[0;34m()\u001b[0m\n",
      "\u001b[0;31mKeyError\u001b[0m: '0023'",
      "\nThe above exception was the direct cause of the following exception:\n",
      "\u001b[0;31mKeyError\u001b[0m                                  Traceback (most recent call last)",
      "Cell \u001b[0;32mIn[19], line 1\u001b[0m\n\u001b[0;32m----> 1\u001b[0m \u001b[43mfvapps\u001b[49m\u001b[38;5;241;43m.\u001b[39;49m\u001b[43mto_pandas\u001b[49m\u001b[43m(\u001b[49m\u001b[43m)\u001b[49m\u001b[38;5;241;43m.\u001b[39;49m\u001b[43mset_index\u001b[49m\u001b[43m(\u001b[49m\u001b[38;5;124;43m\"\u001b[39;49m\u001b[38;5;124;43mapps_id\u001b[39;49m\u001b[38;5;124;43m\"\u001b[39;49m\u001b[43m)\u001b[49m\u001b[43m[\u001b[49m\u001b[38;5;124;43m\"\u001b[39;49m\u001b[38;5;124;43m0023\u001b[39;49m\u001b[38;5;124;43m\"\u001b[39;49m\u001b[43m]\u001b[49m\n",
      "File \u001b[0;32m~/Projects/safeguarded/autolean/fvapps/.venv/lib/python3.12/site-packages/pandas/core/frame.py:4102\u001b[0m, in \u001b[0;36mDataFrame.__getitem__\u001b[0;34m(self, key)\u001b[0m\n\u001b[1;32m   4100\u001b[0m \u001b[38;5;28;01mif\u001b[39;00m \u001b[38;5;28mself\u001b[39m\u001b[38;5;241m.\u001b[39mcolumns\u001b[38;5;241m.\u001b[39mnlevels \u001b[38;5;241m>\u001b[39m \u001b[38;5;241m1\u001b[39m:\n\u001b[1;32m   4101\u001b[0m     \u001b[38;5;28;01mreturn\u001b[39;00m \u001b[38;5;28mself\u001b[39m\u001b[38;5;241m.\u001b[39m_getitem_multilevel(key)\n\u001b[0;32m-> 4102\u001b[0m indexer \u001b[38;5;241m=\u001b[39m \u001b[38;5;28;43mself\u001b[39;49m\u001b[38;5;241;43m.\u001b[39;49m\u001b[43mcolumns\u001b[49m\u001b[38;5;241;43m.\u001b[39;49m\u001b[43mget_loc\u001b[49m\u001b[43m(\u001b[49m\u001b[43mkey\u001b[49m\u001b[43m)\u001b[49m\n\u001b[1;32m   4103\u001b[0m \u001b[38;5;28;01mif\u001b[39;00m is_integer(indexer):\n\u001b[1;32m   4104\u001b[0m     indexer \u001b[38;5;241m=\u001b[39m [indexer]\n",
      "File \u001b[0;32m~/Projects/safeguarded/autolean/fvapps/.venv/lib/python3.12/site-packages/pandas/core/indexes/base.py:3812\u001b[0m, in \u001b[0;36mIndex.get_loc\u001b[0;34m(self, key)\u001b[0m\n\u001b[1;32m   3807\u001b[0m     \u001b[38;5;28;01mif\u001b[39;00m \u001b[38;5;28misinstance\u001b[39m(casted_key, \u001b[38;5;28mslice\u001b[39m) \u001b[38;5;129;01mor\u001b[39;00m (\n\u001b[1;32m   3808\u001b[0m         \u001b[38;5;28misinstance\u001b[39m(casted_key, abc\u001b[38;5;241m.\u001b[39mIterable)\n\u001b[1;32m   3809\u001b[0m         \u001b[38;5;129;01mand\u001b[39;00m \u001b[38;5;28many\u001b[39m(\u001b[38;5;28misinstance\u001b[39m(x, \u001b[38;5;28mslice\u001b[39m) \u001b[38;5;28;01mfor\u001b[39;00m x \u001b[38;5;129;01min\u001b[39;00m casted_key)\n\u001b[1;32m   3810\u001b[0m     ):\n\u001b[1;32m   3811\u001b[0m         \u001b[38;5;28;01mraise\u001b[39;00m InvalidIndexError(key)\n\u001b[0;32m-> 3812\u001b[0m     \u001b[38;5;28;01mraise\u001b[39;00m \u001b[38;5;167;01mKeyError\u001b[39;00m(key) \u001b[38;5;28;01mfrom\u001b[39;00m \u001b[38;5;21;01merr\u001b[39;00m\n\u001b[1;32m   3813\u001b[0m \u001b[38;5;28;01mexcept\u001b[39;00m \u001b[38;5;167;01mTypeError\u001b[39;00m:\n\u001b[1;32m   3814\u001b[0m     \u001b[38;5;66;03m# If we have a listlike key, _check_indexing_error will raise\u001b[39;00m\n\u001b[1;32m   3815\u001b[0m     \u001b[38;5;66;03m#  InvalidIndexError. Otherwise we fall through and re-raise\u001b[39;00m\n\u001b[1;32m   3816\u001b[0m     \u001b[38;5;66;03m#  the TypeError.\u001b[39;00m\n\u001b[1;32m   3817\u001b[0m     \u001b[38;5;28mself\u001b[39m\u001b[38;5;241m.\u001b[39m_check_indexing_error(key)\n",
      "\u001b[0;31mKeyError\u001b[0m: '0023'"
     ]
    }
   ],
   "source": [
    "fvapps.to_pandas().set_index(\"apps_id\")[\"0023\"]"
   ]
  },
  {
   "cell_type": "code",
   "execution_count": null,
   "id": "8e9f4a1b-173e-45ef-a09a-60f721dd8a8a",
   "metadata": {},
   "outputs": [],
   "source": []
  }
 ],
 "metadata": {
  "kernelspec": {
   "display_name": "Python 3 (ipykernel)",
   "language": "python",
   "name": "python3"
  },
  "language_info": {
   "codemirror_mode": {
    "name": "ipython",
    "version": 3
   },
   "file_extension": ".py",
   "mimetype": "text/x-python",
   "name": "python",
   "nbconvert_exporter": "python",
   "pygments_lexer": "ipython3",
   "version": "3.12.4"
  }
 },
 "nbformat": 4,
 "nbformat_minor": 5
}
